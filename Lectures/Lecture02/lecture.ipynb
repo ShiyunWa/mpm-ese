{
 "cells": [
  {
   "cell_type": "markdown",
   "metadata": {
    "slideshow": {
     "slide_type": "slide"
    }
   },
   "source": [
    "# Scientific python: NumPy, SciPy and Matplotlib\n",
    "\n",
    "Note that this notebook should be opened within the `ese-msc` (or a similar custom made) environment to ensure that all cells below can be ran successfully."
   ]
  },
  {
   "cell_type": "markdown",
   "metadata": {},
   "source": [
    "## Today's Learning objectives\n",
    "\n",
    "  * Learn what NumPy arrays are\n",
    "  * Learn basic array manipulations\n",
    "  * Learn what vectorial code is\n",
    "  * Quick overview of SciPy\n",
    "  * Learn how to create a simple 2D plot and decorate it\n",
    "  * Learn how to combine multiple plots into a single figure\n",
    "\n",
    "Some aspects of today's lecture will be revision for many of you. However, we'll mention some important concepts that you may not have thought about previously, e.g. the importance of utilising `NumPy` vectorisation in writing efficient code! Understanding and appreciating these finer aspects of using `NumPy` will be crucial going forward in this course."
   ]
  },
  {
   "cell_type": "markdown",
   "metadata": {},
   "source": [
    "## Further reading\n",
    "* http://scipy-lectures.org\n",
    "* https://www.nature.com/articles/s41586-020-2649-2\n",
    "* https://numpy.org/doc/"
   ]
  },
  {
   "cell_type": "markdown",
   "metadata": {},
   "source": [
    "## SciPy ecosystem\n",
    "\n",
    "From their [website](https://scipy.org):\n",
    "> SciPy (pronounced “Sigh Pie”) is a Python-based ecosystem of open-source software for mathematics, science, and engineering. In particular, these are some of the core packages:\n",
    ">  * NumPy\n",
    ">  * SciPy library\n",
    ">  * Matplotlib \n",
    ">  * IPython\n",
    ">  * Sympy\n",
    ">  * Pandas\n",
    "\n",
    "...and much more."
   ]
  },
  {
   "cell_type": "markdown",
   "metadata": {
    "slideshow": {
     "slide_type": "slide"
    }
   },
   "source": [
    "## NumPy\n",
    "\n",
    "* NumPy is a key building block used by SciPy.\n",
    "\n",
    "* NumPy supports:\n",
    "\n",
    "  * Multidimensional arrays (`ndarray`)\n",
    "  * Matrices and linear algebra operations\n",
    "  * Random number generation\n",
    "  * Fourier transforms\n",
    "  * Polynomials\n",
    "  * Tools for integrating with Fortran/C libraries\n",
    "  \n",
    "* NumPy provides fast precompiled functions for numerical routines.\n",
    "\n",
    "* Official website: https://www.numpy.org/"
   ]
  },
  {
   "cell_type": "markdown",
   "metadata": {
    "slideshow": {
     "slide_type": "slide"
    }
   },
   "source": [
    "## \"Array programming with NumPy\"\n",
    "https://www.nature.com/articles/s41586-020-2649-2\n",
    "\n",
    "**Abstract**: *Array programming provides a powerful, compact and expressive syntax for accessing, manipulating and operating on data in vectors, matrices and higher-dimensional arrays. NumPy is the primary array programming library for the Python language. It has an essential role in research analysis pipelines in fields as diverse as physics, chemistry, astronomy, geoscience, biology, psychology, materials science, engineering, finance and economics. For example, in astronomy, NumPy was an important part of the software stack used in the discovery of gravitational waves and in the first imaging of a black hole. Here we review how a few fundamental array concepts lead to a simple and powerful programming paradigm for organizing, exploring and analysing scientific data. NumPy is the foundation upon which the scientific Python ecosystem is constructed. It is so pervasive that several projects, targeting audiences with specialized needs, have developed their own NumPy-like interfaces and array objects. Owing to its central position in the ecosystem, NumPy increasingly acts as an interoperability layer between such array computation libraries and, together with its application programming interface (API), provides a flexible framework to support the next decade of scientific and industrial analysis.*"
   ]
  },
  {
   "cell_type": "markdown",
   "metadata": {
    "slideshow": {
     "slide_type": "slide"
    }
   },
   "source": [
    "### NumPy Arrays overview\n",
    "\n",
    "* Core (or Standard) Python Library provides lists and 1D arrays\n",
    "\n",
    "  * Lists are general containers for objects\n",
    "  * Arrays are 1D containers for objects of the same type\n",
    "  * Limited functionality\n",
    "  * Some memory and performance overhead associated with these structures\n",
    "\n",
    "* NumPy provides multidimensional arrays (`numpy.ndarray`)\n",
    "  * Can store many elements of the same data type in multiple dimensions\n",
    "  * cf. Fortran/C/C++ arrays\n",
    "  * More functionality than Core Python e.g. many convenient methods for array manipulation\n",
    "  * Efficient storage and execution\n",
    "\n",
    "* [Extensive online documentation !](https://docs.scipy.org/doc/numpy/)"
   ]
  },
  {
   "cell_type": "markdown",
   "metadata": {},
   "source": [
    "### A note on `PyBryt`\n",
    "\n",
    "In the material below you will see that the Python package [PyBryt](https://github.com/microsoft/pybryt) is imported and used to check your solution against some tested reference solution. You may be somewhat familiar with `PyBryt` from the pre-sessional material and will learn a little more about it throughout the year. In any case, you don't need to worry about this package in terms of how it works etc., it's simply included here to provide rapid feedback regarding the correctness of certain exercises. Hence there's no need to fiddle with any `PyBryt` related code in this notebook."
   ]
  },
  {
   "cell_type": "markdown",
   "metadata": {
    "slideshow": {
     "slide_type": "slide"
    }
   },
   "source": [
    "#### Some required imports"
   ]
  },
  {
   "cell_type": "code",
   "execution_count": 4,
   "metadata": {},
   "outputs": [],
   "source": [
    "# Import pybryt which will be used to check your solutions against reference solutions\n",
    "import pybryt\n",
    "from reflecture import pybryt_reference"
   ]
  },
  {
   "cell_type": "code",
   "execution_count": 2,
   "metadata": {
    "slideshow": {
     "slide_type": "-"
    }
   },
   "outputs": [],
   "source": [
    "# Convention: Import numpy and alias/rename it as np\n",
    "import numpy as np"
   ]
  },
  {
   "cell_type": "markdown",
   "metadata": {},
   "source": [
    "### Creating 1D arrays"
   ]
  },
  {
   "cell_type": "markdown",
   "metadata": {},
   "source": [
    "There are many ways to create 1d array, *e.g.*:"
   ]
  },
  {
   "cell_type": "code",
   "execution_count": 3,
   "metadata": {
    "slideshow": {
     "slide_type": "-"
    }
   },
   "outputs": [
    {
     "name": "stdout",
     "output_type": "stream",
     "text": [
      "[-1  0  1]\n"
     ]
    }
   ],
   "source": [
    "# Create array from Python list.\n",
    "a = np.array([-1, 0, 1])\n",
    "print(a)"
   ]
  },
  {
   "cell_type": "code",
   "execution_count": 4,
   "metadata": {
    "slideshow": {
     "slide_type": "-"
    }
   },
   "outputs": [
    {
     "name": "stdout",
     "output_type": "stream",
     "text": [
      "[-1  0  1]\n"
     ]
    }
   ],
   "source": [
    "# Create array using the array class copy constructor.\n",
    "b = np.array(a)\n",
    "print(b)"
   ]
  },
  {
   "cell_type": "markdown",
   "metadata": {},
   "source": [
    "While these might look the same when printed above, all `NumPy` arrays are of type '`ndarray`':"
   ]
  },
  {
   "cell_type": "code",
   "execution_count": 5,
   "metadata": {},
   "outputs": [
    {
     "name": "stdout",
     "output_type": "stream",
     "text": [
      "<class 'numpy.ndarray'>\n",
      "<class 'list'>\n"
     ]
    }
   ],
   "source": [
    "print(type(b))\n",
    "li = [1, 2, 3]\n",
    "print(type(li))"
   ]
  },
  {
   "cell_type": "markdown",
   "metadata": {
    "slideshow": {
     "slide_type": "subslide"
    }
   },
   "source": [
    "Arrays can also be created using `NumPy` functions, *e.g.*"
   ]
  },
  {
   "cell_type": "code",
   "execution_count": 6,
   "metadata": {
    "scrolled": true,
    "slideshow": {
     "slide_type": "-"
    }
   },
   "outputs": [
    {
     "name": "stdout",
     "output_type": "stream",
     "text": [
      "[-2  0  2  4]\n"
     ]
    }
   ],
   "source": [
    "# https://numpy.org/doc/stable/reference/generated/numpy.arange.html\n",
    "# arange for arrays (like using range for lists)\n",
    "a = np.arange(-2, 6, 2)\n",
    "print(a)"
   ]
  },
  {
   "cell_type": "code",
   "execution_count": 7,
   "metadata": {},
   "outputs": [],
   "source": [
    "?np.arange"
   ]
  },
  {
   "cell_type": "code",
   "execution_count": 8,
   "metadata": {
    "slideshow": {
     "slide_type": "-"
    }
   },
   "outputs": [
    {
     "name": "stdout",
     "output_type": "stream",
     "text": [
      "[-10.          -3.33333333   3.33333333  10.        ]\n"
     ]
    }
   ],
   "source": [
    "# https://numpy.org/doc/stable/reference/generated/numpy.linspace.html\n",
    "# linspace to create sample step points in an interval\n",
    "a = np.linspace(-10, 10, 4)\n",
    "print(a)"
   ]
  },
  {
   "cell_type": "code",
   "execution_count": 9,
   "metadata": {
    "slideshow": {
     "slide_type": "-"
    }
   },
   "outputs": [
    {
     "name": "stdout",
     "output_type": "stream",
     "text": [
      "[-10  -6  -2   2   6]\n"
     ]
    }
   ],
   "source": [
    "# Contrast this with arange.\n",
    "print(np.arange(-10, 10, 4))"
   ]
  },
  {
   "cell_type": "markdown",
   "metadata": {},
   "source": [
    "### <span style=\"color:blue\">Exercise 2.1</span>\n",
    "Add comments explaining what the following `NumPy` functions do."
   ]
  },
  {
   "cell_type": "code",
   "execution_count": 10,
   "metadata": {
    "slideshow": {
     "slide_type": "-"
    }
   },
   "outputs": [
    {
     "name": "stdout",
     "output_type": "stream",
     "text": [
      "[0. 0. 0.]\n"
     ]
    }
   ],
   "source": [
    "# create a numpy array whose three elements are zeros\n",
    "b = np.zeros(3)\n",
    "print(b)"
   ]
  },
  {
   "cell_type": "code",
   "execution_count": 11,
   "metadata": {
    "slideshow": {
     "slide_type": "-"
    }
   },
   "outputs": [
    {
     "name": "stdout",
     "output_type": "stream",
     "text": [
      "[1. 1. 1.]\n"
     ]
    }
   ],
   "source": [
    "# create a numpy array whose three elements are ones\n",
    "c = np.ones(3)\n",
    "print(c)"
   ]
  },
  {
   "cell_type": "code",
   "execution_count": 12,
   "metadata": {},
   "outputs": [
    {
     "name": "stdout",
     "output_type": "stream",
     "text": [
      "[[1. 0. 0.]\n",
      " [0. 1. 0.]\n",
      " [0. 0. 1.]]\n"
     ]
    }
   ],
   "source": [
    "# create a unit array\n",
    "d = np.eye(3)\n",
    "print(d)"
   ]
  },
  {
   "cell_type": "markdown",
   "metadata": {
    "slideshow": {
     "slide_type": "slide"
    }
   },
   "source": [
    "### Array attributes\n",
    "\n",
    "As part of the array structure, `NumPy` keeps track of metadata for the array as \"attributes\"."
   ]
  },
  {
   "cell_type": "code",
   "execution_count": 13,
   "metadata": {
    "slideshow": {
     "slide_type": "-"
    }
   },
   "outputs": [],
   "source": [
    "# Taking \"a\" from the previous example\n",
    "a = np.linspace(-10, 10, 5) "
   ]
  },
  {
   "cell_type": "code",
   "execution_count": 14,
   "metadata": {
    "slideshow": {
     "slide_type": "-"
    }
   },
   "outputs": [
    {
     "name": "stdout",
     "output_type": "stream",
     "text": [
      "[-10.  -5.   0.   5.  10.]\n",
      "Dimensions  1\n",
      "Shape       (5,)\n",
      "Size        5\n",
      "Data type   float64\n"
     ]
    }
   ],
   "source": [
    "# Examine key array attributes\n",
    "print(a)\n",
    "print(\"Dimensions \", a.ndim)   # Number of dimensions\n",
    "print(\"Shape      \", a.shape)  # number of elements in each dimension\n",
    "print(\"Size       \", a.size)   # total number of elements\n",
    "print(\"Data type  \", a.dtype)  # data type of element, 64 bit float (IEEE 754) by default"
   ]
  },
  {
   "cell_type": "markdown",
   "metadata": {},
   "source": [
    "Basic data type can be specified at creation:"
   ]
  },
  {
   "cell_type": "code",
   "execution_count": 15,
   "metadata": {
    "slideshow": {
     "slide_type": "-"
    }
   },
   "outputs": [
    {
     "name": "stdout",
     "output_type": "stream",
     "text": [
      "[1.1 2.2 3.3]\n",
      "Data type float32\n"
     ]
    }
   ],
   "source": [
    "a = np.array( [1.1,2.2,3.3], np.float32)\n",
    "print(a)\n",
    "print(\"Data type\", a.dtype)"
   ]
  },
  {
   "cell_type": "code",
   "execution_count": 16,
   "metadata": {
    "scrolled": true
   },
   "outputs": [
    {
     "name": "stdout",
     "output_type": "stream",
     "text": [
      "[1. 2. 3. 4.]\n",
      "Data type float64\n"
     ]
    }
   ],
   "source": [
    "a = np.array([1,2,3,4], np.float64)\n",
    "print(a)\n",
    "print(\"Data type\", a.dtype)"
   ]
  },
  {
   "cell_type": "code",
   "execution_count": 17,
   "metadata": {},
   "outputs": [
    {
     "name": "stdout",
     "output_type": "stream",
     "text": [
      "<class 'numpy.ndarray'>\n",
      "int64\n",
      "<class 'numpy.ndarray'>\n"
     ]
    }
   ],
   "source": [
    "print(type(a))\n",
    "\n",
    "test = np.array([1, 2, 3])\n",
    "print(test.dtype)\n",
    "print(type(test))"
   ]
  },
  {
   "cell_type": "markdown",
   "metadata": {
    "slideshow": {
     "slide_type": "slide"
    }
   },
   "source": [
    "### Multi-dimensional arrays\n",
    "\n",
    "There are many different ways to create N-dimensional arrays. A two-dimensional array or matrix can be created from, e.g., list of lists."
   ]
  },
  {
   "cell_type": "code",
   "execution_count": 18,
   "metadata": {
    "slideshow": {
     "slide_type": "-"
    }
   },
   "outputs": [
    {
     "name": "stdout",
     "output_type": "stream",
     "text": [
      "[[1 2 3]\n",
      " [4 5 6]]\n",
      "Dimensions:  2\n",
      "Size:        6\n",
      "Shape:       (2, 3)\n"
     ]
    }
   ],
   "source": [
    "mat = np.array( [[1,2,3], [4,5,6]] )\n",
    "print(mat)\n",
    "print(\"Dimensions: \", mat.ndim)\n",
    "print(\"Size:       \", mat.size)\n",
    "print(\"Shape:      \", mat.shape)"
   ]
  },
  {
   "cell_type": "markdown",
   "metadata": {},
   "source": [
    "`pprint` (*'pretty print'*) can be used for fancier display of multi-dimensional arrays:"
   ]
  },
  {
   "cell_type": "code",
   "execution_count": 19,
   "metadata": {},
   "outputs": [
    {
     "name": "stdout",
     "output_type": "stream",
     "text": [
      "array([[1, 2, 3],\n",
      "       [4, 5, 6]])\n"
     ]
    }
   ],
   "source": [
    "from pprint import pprint\n",
    "\n",
    "pprint(mat)"
   ]
  },
  {
   "cell_type": "markdown",
   "metadata": {},
   "source": [
    "You can create 2d arrays with complex elements by specifying the data type."
   ]
  },
  {
   "cell_type": "code",
   "execution_count": 20,
   "metadata": {
    "slideshow": {
     "slide_type": "-"
    }
   },
   "outputs": [
    {
     "name": "stdout",
     "output_type": "stream",
     "text": [
      "array([[1.+0.j, 2.+0.j, 3.+0.j],\n",
      "       [4.+0.j, 5.+0.j, 6.+0.j]])\n"
     ]
    }
   ],
   "source": [
    "alist = [[1, 2, 3], [4, 5, 6]]\n",
    "mat = np.array(alist, complex)\n",
    "pprint(mat)"
   ]
  },
  {
   "cell_type": "markdown",
   "metadata": {},
   "source": [
    "### <span style=\"color:blue\">Exercise 2.2</span>\n",
    "\n",
    "Work out the shape of the resulting arrays by 'sight'. <br>"
   ]
  },
  {
   "cell_type": "code",
   "execution_count": 21,
   "metadata": {},
   "outputs": [],
   "source": [
    "## don't change the following line of code in any way\n",
    "a = np.array([[11, 12, 13], [21, 22, 23], [31, 32, 33], [41, 42, 43]])\n",
    "b = np.array([[[1, 1], [2, 2], [3, 3], [4, 4]], [[1, 1], [2, 2], [3, 3], [4, 4]],\n",
    "              [[1, 1], [2, 2], [3, 3], [4, 4]]])"
   ]
  },
  {
   "cell_type": "markdown",
   "metadata": {},
   "source": [
    "Now, write their shapes as `tuple`s in the cell below:"
   ]
  },
  {
   "cell_type": "code",
   "execution_count": 22,
   "metadata": {
    "slideshow": {
     "slide_type": "-"
    }
   },
   "outputs": [],
   "source": [
    "## Solution\n",
    "shape_a = a.shape\n",
    "shape_b = b.shape"
   ]
  },
  {
   "cell_type": "code",
   "execution_count": 23,
   "metadata": {},
   "outputs": [
    {
     "name": "stdout",
     "output_type": "stream",
     "text": [
      "REFERENCE: exercise-2_21\n",
      "SATISFIED: True\n",
      "MESSAGES:\n",
      "  - SUCCESS: Array `a` checked: OK\n",
      "  - SUCCESS: Correct number of columns and/or rows\n"
     ]
    }
   ],
   "source": [
    "## The following code is used to check you solution and should not be modified\n",
    "## It should help you by providing feedback to the solution you have provided\n",
    "with pybryt.check(pybryt_reference(2, 21)):\n",
    "    a\n",
    "    shape_a"
   ]
  },
  {
   "cell_type": "code",
   "execution_count": 24,
   "metadata": {},
   "outputs": [
    {
     "name": "stdout",
     "output_type": "stream",
     "text": [
      "REFERENCE: exercise-2_22\n",
      "SATISFIED: True\n",
      "MESSAGES:\n",
      "  - SUCCESS: Array `b` checked: OK\n",
      "  - SUCCESS: Correct number of columns and/or rows\n"
     ]
    }
   ],
   "source": [
    "## The following code is used to check you solution and should not be modified\n",
    "## It should help you by providing feedback to the solution you have provided\n",
    "with pybryt.check(pybryt_reference(2, 22)):\n",
    "    b\n",
    "    shape_b"
   ]
  },
  {
   "cell_type": "code",
   "execution_count": 25,
   "metadata": {
    "slideshow": {
     "slide_type": "-"
    }
   },
   "outputs": [
    {
     "name": "stdout",
     "output_type": "stream",
     "text": [
      "array([[11, 12, 13],\n",
      "       [21, 22, 23],\n",
      "       [31, 32, 33],\n",
      "       [41, 42, 43]])\n",
      "a (4, 3)\n",
      "2\n",
      "12\n"
     ]
    }
   ],
   "source": [
    "pprint(a)\n",
    "print(\"a\", a.shape)\n",
    "print(a.ndim)\n",
    "print(a.size)"
   ]
  },
  {
   "cell_type": "code",
   "execution_count": 26,
   "metadata": {
    "slideshow": {
     "slide_type": "-"
    }
   },
   "outputs": [
    {
     "name": "stdout",
     "output_type": "stream",
     "text": [
      "array([[[1, 1],\n",
      "        [2, 2],\n",
      "        [3, 3],\n",
      "        [4, 4]],\n",
      "\n",
      "       [[1, 1],\n",
      "        [2, 2],\n",
      "        [3, 3],\n",
      "        [4, 4]],\n",
      "\n",
      "       [[1, 1],\n",
      "        [2, 2],\n",
      "        [3, 3],\n",
      "        [4, 4]]])\n",
      "b (3, 4, 2)\n",
      "3\n",
      "24\n"
     ]
    }
   ],
   "source": [
    "pprint(b)\n",
    "print(\"b\", b.shape)\n",
    "print(b.ndim)\n",
    "print(b.size)"
   ]
  },
  {
   "cell_type": "markdown",
   "metadata": {
    "slideshow": {
     "slide_type": "slide"
    }
   },
   "source": [
    "### Accessing arrays\n",
    "\n",
    "Basic indexing and slicing can be used to access array elements, as we know from lists."
   ]
  },
  {
   "cell_type": "code",
   "execution_count": 27,
   "metadata": {
    "scrolled": true,
    "slideshow": {
     "slide_type": "-"
    }
   },
   "outputs": [
    {
     "name": "stdout",
     "output_type": "stream",
     "text": [
      "a [0 1 2 3 4 5 6 7]\n",
      "a[2:4] [2 3]\n",
      "a[0:7:3] [0 3 6]\n",
      "a[:5:2] [0 2 4]\n"
     ]
    }
   ],
   "source": [
    "# a[start:stop:stride] (not inclusive of stop)\n",
    "a = np.arange(8)     # another function for creating arrays\n",
    "print(\"a\", a)\n",
    "print(\"a[2:4]\", a[2:4])\n",
    "print(\"a[0:7:3]\", a[0:7:3])\n",
    "print(\"a[:5:2]\", a[:5:2])"
   ]
  },
  {
   "cell_type": "markdown",
   "metadata": {},
   "source": [
    "Negative (or modulo) indices are valid:"
   ]
  },
  {
   "cell_type": "code",
   "execution_count": 28,
   "metadata": {},
   "outputs": [
    {
     "name": "stdout",
     "output_type": "stream",
     "text": [
      "7\n"
     ]
    }
   ],
   "source": [
    "# To, e.g., access the last element\n",
    "print(a[-1])"
   ]
  },
  {
   "cell_type": "markdown",
   "metadata": {},
   "source": [
    "### <span style=\"color:blue\">Exercise 2.3</span>\n",
    "\n",
    "Manually create an `np.array` called `b` which is equivalent to the output of `a[2:-3:2]`."
   ]
  },
  {
   "cell_type": "code",
   "execution_count": 29,
   "metadata": {},
   "outputs": [],
   "source": [
    "## Solution\n",
    "b = a[2:5:2]"
   ]
  },
  {
   "cell_type": "code",
   "execution_count": 30,
   "metadata": {
    "slideshow": {
     "slide_type": "-"
    }
   },
   "outputs": [
    {
     "name": "stdout",
     "output_type": "stream",
     "text": [
      "REFERENCE: exercise-2_3\n",
      "SATISFIED: True\n",
      "MESSAGES:\n",
      "  - SUCCESS: array `a` checked: OK\n",
      "  - SUCCESS: That would be the correct output.\n"
     ]
    }
   ],
   "source": [
    "## The following code is used to check you solution and should not be modified\n",
    "## It should help you by providing feedback to the solution you have provided\n",
    "with pybryt.check(pybryt_reference(2, 3)):\n",
    "    a\n",
    "    b"
   ]
  },
  {
   "cell_type": "markdown",
   "metadata": {
    "slideshow": {
     "slide_type": "subslide"
    }
   },
   "source": [
    "For multi-dimensional arrays, tuples or index notations can be used."
   ]
  },
  {
   "cell_type": "code",
   "execution_count": 31,
   "metadata": {
    "slideshow": {
     "slide_type": "-"
    }
   },
   "outputs": [
    {
     "name": "stdout",
     "output_type": "stream",
     "text": [
      "array([[[1, 2],\n",
      "        [3, 4]],\n",
      "\n",
      "       [[5, 6],\n",
      "        [7, 8]]])\n"
     ]
    }
   ],
   "source": [
    "# Basic indexing of a 3d array\n",
    "c = np.array([[[1, 2], [3, 4]], [[5, 6], [7, 8]]])\n",
    "pprint(c)"
   ]
  },
  {
   "cell_type": "code",
   "execution_count": 32,
   "metadata": {
    "slideshow": {
     "slide_type": "-"
    }
   },
   "outputs": [
    {
     "name": "stdout",
     "output_type": "stream",
     "text": [
      "(2, 2, 2)\n",
      "c[1][0][1]: 6\n",
      "c[1, 0, 1]: 6\n"
     ]
    }
   ],
   "source": [
    "print(c.shape)\n",
    "print(\"c[1][0][1]:\", c[1][0][1]) # using index notation\n",
    "print(\"c[1, 0, 1]:\", c[1, 0, 1]) # using a tuple (more performant)"
   ]
  },
  {
   "cell_type": "code",
   "execution_count": 33,
   "metadata": {},
   "outputs": [
    {
     "name": "stdout",
     "output_type": "stream",
     "text": [
      "array([[1, 2, 3],\n",
      "       [5, 6, 8]])\n",
      "(2, 3)\n",
      "c[1][2]: 8\n",
      "c[1, 2]: 8\n"
     ]
    }
   ],
   "source": [
    "c = np.array([[1, 2, 3],[5, 6, 8]])\n",
    "pprint(c)\n",
    "print(c.shape)\n",
    "print(\"c[1][2]:\", c[1][2]) # using index notation\n",
    "print(\"c[1, 2]:\", c[1, 2])     # using a tuple (more performant)"
   ]
  },
  {
   "cell_type": "code",
   "execution_count": 34,
   "metadata": {
    "slideshow": {
     "slide_type": "-"
    }
   },
   "outputs": [
    {
     "name": "stdout",
     "output_type": "stream",
     "text": [
      "array([[[1, 2],\n",
      "        [3, 4]],\n",
      "\n",
      "       [[5, 6],\n",
      "        [7, 8]]])\n"
     ]
    }
   ],
   "source": [
    "c = np.array([[[1, 2], [3, 4]], [[5, 6], [7, 8]]])\n",
    "pprint(c)"
   ]
  },
  {
   "cell_type": "markdown",
   "metadata": {},
   "source": [
    "If the number of indices given is less than the number of axes, missing axes are taken as complete slices."
   ]
  },
  {
   "cell_type": "code",
   "execution_count": 35,
   "metadata": {
    "slideshow": {
     "slide_type": "-"
    }
   },
   "outputs": [
    {
     "name": "stdout",
     "output_type": "stream",
     "text": [
      "array([[5, 6],\n",
      "       [7, 8]])\n",
      "array([5, 6])\n",
      "array([5, 6])\n"
     ]
    }
   ],
   "source": [
    "pprint(c[1])\n",
    "pprint(c[1, 0])\n",
    "pprint(c[1, 0, ...]) # can use elipsis (3 dots) for missing indices"
   ]
  },
  {
   "cell_type": "markdown",
   "metadata": {},
   "source": [
    "Slicing tuple objects can also be created to extract/manipulate indices. A slicing object takes the form `slice(start, stop, step)`. Therefore, to take the slice `a[2:-3:2]` we could also write"
   ]
  },
  {
   "cell_type": "code",
   "execution_count": 36,
   "metadata": {},
   "outputs": [
    {
     "name": "stdout",
     "output_type": "stream",
     "text": [
      "array([0, 1, 2, 3, 4, 5, 6, 7])\n",
      "array([2, 4])\n",
      "array([2, 4])\n"
     ]
    }
   ],
   "source": [
    "pprint(a)\n",
    "pprint(a[2:-3:2])\n",
    "my_slice = (slice(2, -3, 2))\n",
    "pprint(a[my_slice])"
   ]
  },
  {
   "cell_type": "markdown",
   "metadata": {},
   "source": [
    "Note that a negative step can also be used to invert an array. Take for example"
   ]
  },
  {
   "cell_type": "code",
   "execution_count": 37,
   "metadata": {},
   "outputs": [
    {
     "name": "stdout",
     "output_type": "stream",
     "text": [
      "[[0 1 2]\n",
      " [3 4 5]\n",
      " [6 7 8]]\n"
     ]
    }
   ],
   "source": [
    "d = np.arange(9).reshape(3,3)\n",
    "print(d)"
   ]
  },
  {
   "cell_type": "markdown",
   "metadata": {},
   "source": [
    "This can be inverted along both axes via"
   ]
  },
  {
   "cell_type": "code",
   "execution_count": 38,
   "metadata": {},
   "outputs": [
    {
     "name": "stdout",
     "output_type": "stream",
     "text": [
      "[[8 7 6]\n",
      " [5 4 3]\n",
      " [2 1 0]]\n"
     ]
    }
   ],
   "source": [
    "print(d[::-1, ::-1])"
   ]
  },
  {
   "cell_type": "markdown",
   "metadata": {},
   "source": [
    "or equivalently"
   ]
  },
  {
   "cell_type": "code",
   "execution_count": 39,
   "metadata": {},
   "outputs": [
    {
     "name": "stdout",
     "output_type": "stream",
     "text": [
      "[[8 7 6]\n",
      " [5 4 3]\n",
      " [2 1 0]]\n"
     ]
    }
   ],
   "source": [
    "print(d[(slice(None, None, -1), slice(None, None, -1))])"
   ]
  },
  {
   "cell_type": "markdown",
   "metadata": {
    "slideshow": {
     "slide_type": "subslide"
    }
   },
   "source": [
    "### Array copies\n",
    "\n",
    "Simple assignment creates references or 'shallow' copies of arrays."
   ]
  },
  {
   "cell_type": "code",
   "execution_count": 40,
   "metadata": {
    "slideshow": {
     "slide_type": "-"
    }
   },
   "outputs": [
    {
     "name": "stdout",
     "output_type": "stream",
     "text": [
      "a [-2  6  2]\n",
      "array([20,  6,  2])\n",
      "array([20,  6,  2])\n"
     ]
    }
   ],
   "source": [
    "a = np.array([-2, 6, 2])\n",
    "print(\"a\", a)\n",
    "b = a\n",
    "a[0] = 20\n",
    "\n",
    "# b points to a, hence printing a and b will produce the same result\n",
    "pprint(a)\n",
    "pprint(b)"
   ]
  },
  {
   "cell_type": "markdown",
   "metadata": {},
   "source": [
    "Use `copy()` to create a true or 'deep' copy."
   ]
  },
  {
   "cell_type": "code",
   "execution_count": 41,
   "metadata": {},
   "outputs": [
    {
     "name": "stdout",
     "output_type": "stream",
     "text": [
      "[20  6  2]\n",
      "[20  6 42]\n"
     ]
    }
   ],
   "source": [
    "c = a.copy()\n",
    "# check c really is an independent copy of a\n",
    "c[2] = 42\n",
    "print(a)\n",
    "print(c)"
   ]
  },
  {
   "cell_type": "markdown",
   "metadata": {
    "slideshow": {
     "slide_type": "subslide"
    }
   },
   "source": [
    "### Views from slices\n",
    "\n",
    "A \"view\" is an array that refers to another array's data (like references). You can create a view of an array by selecting a slice of an array. No data is copied when a view is created."
   ]
  },
  {
   "cell_type": "code",
   "execution_count": 42,
   "metadata": {},
   "outputs": [
    {
     "name": "stdout",
     "output_type": "stream",
     "text": [
      "array([[1, 2, 3],\n",
      "       [4, 5, 6],\n",
      "       [7, 8, 9]])\n"
     ]
    }
   ],
   "source": [
    "a = np.array([[1, 2, 3], [4, 5, 6], [7, 8, 9]])\n",
    "pprint(a)"
   ]
  },
  {
   "cell_type": "code",
   "execution_count": 43,
   "metadata": {
    "slideshow": {
     "slide_type": "-"
    }
   },
   "outputs": [
    {
     "name": "stdout",
     "output_type": "stream",
     "text": [
      "[[8 9]]\n"
     ]
    }
   ],
   "source": [
    "# You then create a view as follows:\n",
    "s = a[2:3, 1:3]\n",
    "print(s)"
   ]
  },
  {
   "cell_type": "markdown",
   "metadata": {},
   "source": [
    "Lets check the behavior if we modify and element of `s`:"
   ]
  },
  {
   "cell_type": "code",
   "execution_count": 44,
   "metadata": {},
   "outputs": [
    {
     "name": "stdout",
     "output_type": "stream",
     "text": [
      "s [[-2 -2]]\n",
      "a [[ 1  2  3]\n",
      " [ 4  5  6]\n",
      " [ 7 -2 -2]]\n"
     ]
    }
   ],
   "source": [
    "s[:, :] = -2\n",
    "print(\"s\", s)\n",
    "print(\"a\", a)"
   ]
  },
  {
   "cell_type": "markdown",
   "metadata": {},
   "source": [
    "### <span style=\"color:blue\">Exercise 2.4</span>\n",
    "Create a two-dimensional array called `m` to represent the following matrix,\n",
    "$$\n",
    "\\mathbf{m} = \\left\\lbrack\\begin{array}{ccc}\n",
    "1 & 1 & 2\\cr\n",
    "3 & 5 & 8\\cr\n",
    "13 & 21 & 34\\cr\n",
    "55 & 89 & 144\n",
    "\\end{array}\\right\\rbrack\n",
    "$$\n",
    "\n",
    "Then change all the elements with values 21, 34, 89, and 144 in matrix `m` (i.e. bottom right corner elements) to 1001 by using a slice."
   ]
  },
  {
   "cell_type": "code",
   "execution_count": 45,
   "metadata": {
    "slideshow": {
     "slide_type": "-"
    }
   },
   "outputs": [
    {
     "data": {
      "text/plain": [
       "array([[   1,    1,    2],\n",
       "       [   3,    5,    8],\n",
       "       [  13, 1001, 1001],\n",
       "       [  55, 1001, 1001]])"
      ]
     },
     "execution_count": 45,
     "metadata": {},
     "output_type": "execute_result"
    }
   ],
   "source": [
    "## Solution\n",
    "m = np.array([[1, 1, 2], [3, 5, 8], [13, 21, 34], [55, 89, 144]])\n",
    "m[2, 1] = 1001\n",
    "m[2, 2] = 1001\n",
    "m[3, 1] = 1001\n",
    "m[3, 2] = 1001\n",
    "m"
   ]
  },
  {
   "cell_type": "code",
   "execution_count": 46,
   "metadata": {},
   "outputs": [
    {
     "name": "stdout",
     "output_type": "stream",
     "text": [
      "REFERENCE: exercise-2_4\n",
      "SATISFIED: True\n",
      "MESSAGES:\n",
      "  - SUCCESS: Great, you have succesfully affected the change to the array.\n"
     ]
    }
   ],
   "source": [
    "# The following code is used to check your answer and should not be modified\n",
    "with pybryt.check(pybryt_reference(2, 4)):\n",
    "    m"
   ]
  },
  {
   "cell_type": "markdown",
   "metadata": {
    "slideshow": {
     "slide_type": "slide"
    }
   },
   "source": [
    "### Reshaping arrays\n",
    "\n",
    "The shape of an array can be modified, and/or its size changed:"
   ]
  },
  {
   "cell_type": "code",
   "execution_count": 47,
   "metadata": {
    "slideshow": {
     "slide_type": "-"
    }
   },
   "outputs": [
    {
     "name": "stdout",
     "output_type": "stream",
     "text": [
      "a = \n",
      "array([0, 1, 2, 3, 4, 5])\n",
      "a.shape =  (6,) \n",
      "\n",
      "array([[0, 1],\n",
      "       [2, 3],\n",
      "       [4, 5]])\n"
     ]
    }
   ],
   "source": [
    "a = np.arange(6)\n",
    "print(\"a = \")\n",
    "pprint(a)\n",
    "print(\"a.shape = \", a.shape, \"\\n\")\n",
    "\n",
    "# The new shape should be compatible with the old shape\n",
    "a.shape = (3,2)\n",
    "pprint(a)"
   ]
  },
  {
   "cell_type": "code",
   "execution_count": 48,
   "metadata": {
    "scrolled": true,
    "slideshow": {
     "slide_type": "-"
    }
   },
   "outputs": [
    {
     "name": "stdout",
     "output_type": "stream",
     "text": [
      "mat =  [0 1 2 3 4 5]\n",
      "mat1 =  [[0 1]\n",
      " [2 3]\n",
      " [4 5]]\n",
      "mat2 =  [[0 1 2 3 4 5 0 1 2]\n",
      " [3 4 5 0 1 2 3 4 5]\n",
      " [0 1 2 3 4 5 0 1 2]]\n",
      "mat3 =  [[0 1]\n",
      " [2 3]\n",
      " [4 5]]\n"
     ]
    }
   ],
   "source": [
    "# Or you can alter the size and shape of the array with resize().\n",
    "# https://numpy.org/doc/stable/reference/generated/numpy.resize.html\n",
    "mat = np.arange(6)\n",
    "print(\"mat = \", mat)\n",
    "\n",
    "mat1 = np.resize(mat, (3, 2))\n",
    "print(\"mat1 = \", mat1)\n",
    "\n",
    "mat2 = np.resize(mat, (3, 9))\n",
    "print(\"mat2 = \", mat2)\n",
    "\n",
    "mat3 = np.reshape(mat, (3, 2))\n",
    "print(\"mat3 = \", mat3)"
   ]
  },
  {
   "cell_type": "code",
   "execution_count": 49,
   "metadata": {},
   "outputs": [
    {
     "name": "stdout",
     "output_type": "stream",
     "text": [
      "[[0 1]\n",
      " [2 3]\n",
      " [4 5]]\n"
     ]
    }
   ],
   "source": [
    "mat_test = np.resize(mat, (3, 2))\n",
    "print(mat_test)"
   ]
  },
  {
   "cell_type": "markdown",
   "metadata": {},
   "source": [
    "Note that `mat1`, `mat2` and `mat3` are copies of `mat` <br>\n",
    "`base` can be used to check if arrays share the same data (*i.e.* they are not copies):"
   ]
  },
  {
   "cell_type": "code",
   "execution_count": 50,
   "metadata": {},
   "outputs": [
    {
     "data": {
      "text/plain": [
       "False"
      ]
     },
     "execution_count": 50,
     "metadata": {},
     "output_type": "execute_result"
    }
   ],
   "source": [
    "mat1.base is mat"
   ]
  },
  {
   "cell_type": "markdown",
   "metadata": {},
   "source": [
    "### <span style=\"color:blue\">Exercise 2.5</span>\n",
    "\n",
    "How is `reshape()` different from `resize()`? Recall that you can view docstrings via, e.g., `print(np.reshape.__doc__)` or `help(np.reshape)` etc."
   ]
  },
  {
   "cell_type": "code",
   "execution_count": 51,
   "metadata": {},
   "outputs": [
    {
     "name": "stdout",
     "output_type": "stream",
     "text": [
      "e_1 =  [[0 1]\n",
      " [2 3]\n",
      " [4 5]\n",
      " [6 7]]\n",
      "e_2 =  [[0 1]\n",
      " [2 3]\n",
      " [4 5]\n",
      " [6 7]]\n",
      "[[ True  True]\n",
      " [ True  True]\n",
      " [ True  True]\n",
      " [ True  True]]\n"
     ]
    }
   ],
   "source": [
    "# Let's use this simple array to run the check.\n",
    "e = np.arange(8)\n",
    "# check if/how reshape and resize are different using the array above:\n",
    "e_1 = np.reshape(e, (4, 2))\n",
    "print(\"e_1 = \", e_1)\n",
    "e_2 = np.reshape(e, (4, 2))\n",
    "print(\"e_2 = \", e_2)\n",
    "\n",
    "print(e_1 == e_2)"
   ]
  },
  {
   "cell_type": "markdown",
   "metadata": {
    "slideshow": {
     "slide_type": "slide"
    }
   },
   "source": [
    "### Vectorization and operations on arrays\n",
    "\n",
    "Vectorization is why numpy arrays are great. It allows element-wise operations (and importantly avoids the need of writing loops!). What output do the following cells give?"
   ]
  },
  {
   "cell_type": "code",
   "execution_count": 52,
   "metadata": {
    "slideshow": {
     "slide_type": "-"
    }
   },
   "outputs": [
    {
     "name": "stdout",
     "output_type": "stream",
     "text": [
      "[[0 1 2 3 4]\n",
      " [5 6 7 8 9]]\n",
      "[[0 1 2 3 4]\n",
      " [5 6 7 8 9]]\n"
     ]
    }
   ],
   "source": [
    "a = np.arange(10).reshape([2,5])\n",
    "b = np.arange(10).reshape([2,5])\n",
    "print(a)\n",
    "print(b)"
   ]
  },
  {
   "cell_type": "code",
   "execution_count": 53,
   "metadata": {
    "slideshow": {
     "slide_type": "-"
    }
   },
   "outputs": [
    {
     "name": "stdout",
     "output_type": "stream",
     "text": [
      "[[-0.  -0.1 -0.2 -0.3 -0.4]\n",
      " [-0.5 -0.6 -0.7 -0.8 -0.9]]\n",
      "[[ 0  2  4  6  8]\n",
      " [10 12 14 16 18]]\n"
     ]
    }
   ],
   "source": [
    "# Try these\n",
    "-0.1*a\n",
    "print(-0.1*a)\n",
    "\n",
    "print(a+b)"
   ]
  },
  {
   "cell_type": "code",
   "execution_count": 54,
   "metadata": {
    "slideshow": {
     "slide_type": "-"
    }
   },
   "outputs": [
    {
     "data": {
      "text/plain": [
       "array([[ 0,  1,  4,  9, 16],\n",
       "       [25, 36, 49, 64, 81]])"
      ]
     },
     "execution_count": 54,
     "metadata": {},
     "output_type": "execute_result"
    }
   ],
   "source": [
    "# Note that this is element wise multiplication, not matrix multiplication!\n",
    "a*b"
   ]
  },
  {
   "cell_type": "code",
   "execution_count": 55,
   "metadata": {},
   "outputs": [
    {
     "data": {
      "text/plain": [
       "array([[ 30,  80],\n",
       "       [ 80, 255]])"
      ]
     },
     "execution_count": 55,
     "metadata": {},
     "output_type": "execute_result"
    }
   ],
   "source": [
    "# Use dot product for vector/matrix multiplication\n",
    "# Note: .T gives you transpose of matrix i.e. reshapes it\n",
    "a.dot(b.T)"
   ]
  },
  {
   "cell_type": "markdown",
   "metadata": {},
   "source": [
    "Be careful: the type of data elements matters here!"
   ]
  },
  {
   "cell_type": "markdown",
   "metadata": {},
   "source": [
    "Vectorization also works with functions!"
   ]
  },
  {
   "cell_type": "code",
   "execution_count": 56,
   "metadata": {},
   "outputs": [
    {
     "name": "stdout",
     "output_type": "stream",
     "text": [
      "[  1   8  27  64 125 216 343 512 729]\n"
     ]
    }
   ],
   "source": [
    "def f(x):\n",
    "    return x**3\n",
    "\n",
    "x = np.array([1,2,3,4,5,6,7,8,9])\n",
    "y = f(x)\n",
    "\n",
    "print(y)"
   ]
  },
  {
   "cell_type": "markdown",
   "metadata": {},
   "source": [
    "### <span style=\"color:blue\">Exercise 2.6</span>\n",
    "\n",
    "Let $A$ be the two-dimensional array\n",
    "$$\n",
    "\\mathbf{A} = \\left\\lbrack\\begin{array}{ccc}\n",
    "2 & 1 & 0\\cr\n",
    "-1 & 2 & 1\\cr\n",
    "0 & -1 & 2\n",
    "\\end{array}\\right\\rbrack\n",
    "$$\n",
    "\n",
    "In the following cell, initialise `A` as an `np.array`."
   ]
  },
  {
   "cell_type": "code",
   "execution_count": 57,
   "metadata": {},
   "outputs": [],
   "source": [
    "## Solution...\n",
    "A = np.array([[2, 1, 0], [-1, 2, 1], [0, -1, 2]])"
   ]
  },
  {
   "cell_type": "markdown",
   "metadata": {},
   "source": [
    "Next, implement the function\n",
    "$$\n",
    "f(x) = x^3 + xe^x + 1\n",
    "$$\n",
    "and then apply it to the array $A$. <br>\n",
    "To check you get the expected  result ensure the function is called `f_02_06`, i.e. implement as `def f_02_06(x): ...`"
   ]
  },
  {
   "cell_type": "code",
   "execution_count": 58,
   "metadata": {},
   "outputs": [],
   "source": [
    "# Solution...\n",
    "def f_02_06(x):\n",
    "    return x**3 + x*np.exp(x) + 1"
   ]
  },
  {
   "cell_type": "code",
   "execution_count": 59,
   "metadata": {},
   "outputs": [
    {
     "name": "stdout",
     "output_type": "stream",
     "text": [
      "REFERENCE: exercise-2_6\n",
      "SATISFIED: True\n",
      "MESSAGES:\n",
      "  - Matrix `A` checked and it looks good.\n",
      "  - SUCCESS: Amazing! Your function returns the correct solution.\n"
     ]
    }
   ],
   "source": [
    "## The following code is used to check you solution and should not be modified\n",
    "## It should help you by providing feedback to the solution you have provided\n",
    "with pybryt.check(pybryt_reference(2, 6)):\n",
    "    f_02_06(A)"
   ]
  },
  {
   "cell_type": "markdown",
   "metadata": {
    "slideshow": {
     "slide_type": "subslide"
    }
   },
   "source": [
    "### Manipulating arrays\n",
    "\n",
    "There are many methods for manipulating arrays (reshaping, joining, splitting, inserting, ...). Check the documentation at https://numpy.org/doc/stable/reference/ or https://docs.python.org/3/reference/index.html\n",
    "\n",
    "E.g.,\n",
    "```python\n",
    "concatenate((a1,a2),axis=0)\n",
    "split(a, indices_or_sections, axis=0)\n",
    "flatten\n",
    "ravel(a)\n",
    "stack(arrays[, axis])\n",
    "tile(a, reps)\n",
    "repeat(a, repeats[, axis])\n",
    "unique(ar[, return_index, return_inverse, ...])\n",
    "trim_zeros(filt[, trim])\n",
    "fill(scalar)\n",
    "xv, yv = meshgrid(x,y)\n",
    "```"
   ]
  },
  {
   "cell_type": "markdown",
   "metadata": {
    "slideshow": {
     "slide_type": "-"
    }
   },
   "source": [
    "### <span style=\"color:blue\">Exercise 2.7</span>\n",
    "\n",
    "See what arrays you can create from some of the functions listed above. An example is provided for `concatenate` but experiment with some of the other functions listed."
   ]
  },
  {
   "cell_type": "code",
   "execution_count": 60,
   "metadata": {},
   "outputs": [
    {
     "name": "stdout",
     "output_type": "stream",
     "text": [
      "[[ 1  2  3  7  8  9]\n",
      " [ 4  5  6 10 11 12]]\n"
     ]
    }
   ],
   "source": [
    "## e.g., let's see what concatenate does:\n",
    "a1 = np.array([[1,2,3],[4,5,6]])\n",
    "a2 = np.array([[7,8,9],[10,11,12]])\n",
    "a3 = np.concatenate((a1,a2),axis=1)\n",
    "print(a3)"
   ]
  },
  {
   "cell_type": "code",
   "execution_count": 61,
   "metadata": {},
   "outputs": [],
   "source": [
    "## Experiment in here:\n"
   ]
  },
  {
   "cell_type": "markdown",
   "metadata": {},
   "source": [
    "Next, use `concatenate` to combine arrays `a1` and `a2` into an array called `a4` with the following arrangement:\n",
    "\n",
    "$$\n",
    "\\left\\lbrack\\begin{array}{ccc}\n",
    "1 & 2 & 3\\cr\n",
    "4 & 5 & 6\\cr\n",
    "7 & 8 & 9\\cr\n",
    "10 & 11 & 12\n",
    "\\end{array}\\right\\rbrack\n",
    "$$"
   ]
  },
  {
   "cell_type": "code",
   "execution_count": 62,
   "metadata": {},
   "outputs": [
    {
     "data": {
      "text/plain": [
       "array([[ 1,  2,  3],\n",
       "       [ 4,  5,  6],\n",
       "       [ 7,  8,  9],\n",
       "       [10, 11, 12]])"
      ]
     },
     "execution_count": 62,
     "metadata": {},
     "output_type": "execute_result"
    }
   ],
   "source": [
    "## Solution...\n",
    "a4 = np.concatenate((a1, a2), axis=0)\n",
    "a4"
   ]
  },
  {
   "cell_type": "code",
   "execution_count": 63,
   "metadata": {},
   "outputs": [
    {
     "name": "stdout",
     "output_type": "stream",
     "text": [
      "REFERENCE: exercise-2_7\n",
      "SATISFIED: True\n",
      "MESSAGES:\n",
      "  - SUCCESS: Array `a1` check: OK.\n",
      "  - SUCCESS: Array `a2` check: OK.\n",
      "  - SUCCESS: Super! Array `a4` appears as expected.\n"
     ]
    }
   ],
   "source": [
    "## The following code is used to check you solution and should not be modified\n",
    "## It should help you by providing feedback to the solution you have provided\n",
    "with pybryt.check(pybryt_reference(2, 7)):\n",
    "    a1\n",
    "    a2\n",
    "    a4"
   ]
  },
  {
   "cell_type": "markdown",
   "metadata": {
    "slideshow": {
     "slide_type": "subslide"
    }
   },
   "source": [
    "### Fancy indexing\n",
    "\n",
    "Advanced or fancy indexing lets you do more than simple indexing. <br>\n",
    "Let's see how you can index multiple elements of an array and return that as another array."
   ]
  },
  {
   "cell_type": "code",
   "execution_count": 64,
   "metadata": {
    "slideshow": {
     "slide_type": "-"
    }
   },
   "outputs": [
    {
     "name": "stdout",
     "output_type": "stream",
     "text": [
      "array([[ 0,  1,  2],\n",
      "       [ 3,  4,  5],\n",
      "       [ 6,  7,  8],\n",
      "       [ 9, 10, 11]])\n"
     ]
    }
   ],
   "source": [
    "p = np.array([[0, 1, 2],[3, 4, 5],[6, 7, 8],[9, 10, 11]])\n",
    "pprint(p)"
   ]
  },
  {
   "cell_type": "code",
   "execution_count": 65,
   "metadata": {
    "slideshow": {
     "slide_type": "-"
    }
   },
   "outputs": [
    {
     "name": "stdout",
     "output_type": "stream",
     "text": [
      "[ 0  2  9 11]\n"
     ]
    }
   ],
   "source": [
    "rows = [0, 0, 3, 3]   # indices for rows\n",
    "cols = [0, 2, 0, 2]   # indices for columns\n",
    "q = p[rows, cols]\n",
    "print(q)"
   ]
  },
  {
   "cell_type": "markdown",
   "metadata": {},
   "source": [
    "Fancy indexing returns a copy (not a view like slicing)"
   ]
  },
  {
   "cell_type": "code",
   "execution_count": 66,
   "metadata": {},
   "outputs": [
    {
     "name": "stdout",
     "output_type": "stream",
     "text": [
      "[1000    2    9   11]\n",
      "[[ 0  1  2]\n",
      " [ 3  4  5]\n",
      " [ 6  7  8]\n",
      " [ 9 10 11]]\n"
     ]
    }
   ],
   "source": [
    "# Check if q is a view or a copy\n",
    "# If we change the value of an element in the copy it does not effect the value in the original - unlike views.\n",
    "q[0] = 1000\n",
    "print(q)\n",
    "print(p)"
   ]
  },
  {
   "cell_type": "markdown",
   "metadata": {},
   "source": [
    "### <span style=\"color:blue\">Exercise 2.8</span>\n",
    "\n",
    "Use `base` to check if array `q` is a copy of array `p`. Use `base` to check. <br>\n",
    "Now, do the same for a simple indexed slice of `p` (e.g. `p[1:2,3:4]`)."
   ]
  },
  {
   "cell_type": "code",
   "execution_count": 67,
   "metadata": {},
   "outputs": [],
   "source": [
    "# Solution...\n"
   ]
  },
  {
   "cell_type": "markdown",
   "metadata": {},
   "source": [
    "### Logical expressions and boolean masks\n",
    "\n",
    "Logical expressions and boolean 'masks' can be used to find indices of elements of interest e.g."
   ]
  },
  {
   "cell_type": "code",
   "execution_count": 68,
   "metadata": {
    "scrolled": true,
    "slideshow": {
     "slide_type": "-"
    }
   },
   "outputs": [
    {
     "name": "stdout",
     "output_type": "stream",
     "text": [
      "[[  0  -1   4  20  99]\n",
      " [ -3  -5   6   7 -10]]\n",
      "[ -1  -3  -5 -10]\n"
     ]
    }
   ],
   "source": [
    "# Find the elements in an arraey with a value less than zero\n",
    "m = np.array([[0, -1, 4, 20, 99], [-3, -5, 6, 7, -10]])\n",
    "print(m)\n",
    "print(m[m < 0])"
   ]
  },
  {
   "cell_type": "code",
   "execution_count": 69,
   "metadata": {},
   "outputs": [
    {
     "name": "stdout",
     "output_type": "stream",
     "text": [
      "[array([[False,  True, False, False, False],\n",
      "       [ True,  True, False, False,  True]])]\n"
     ]
    }
   ],
   "source": [
    "print([m < 0])"
   ]
  },
  {
   "cell_type": "markdown",
   "metadata": {},
   "source": [
    "We can of course use other logical operators such as `>`, `<=` etc. in such expressions and even functions, and so forth, to create more complicated masks."
   ]
  },
  {
   "cell_type": "markdown",
   "metadata": {},
   "source": [
    "### <span style=\"color:blue\">Exercise 2.9</span>\n",
    "\n",
    "Challenge yourself to anticipate the output of the following code before running it."
   ]
  },
  {
   "cell_type": "code",
   "execution_count": 70,
   "metadata": {
    "slideshow": {
     "slide_type": "-"
    }
   },
   "outputs": [
    {
     "name": "stdout",
     "output_type": "stream",
     "text": [
      "[0 1 2 3 4 5 6 7 8 9]\n"
     ]
    }
   ],
   "source": [
    "a = np.arange(10)\n",
    "print(a)\n",
    "mask = np.ones(len(a), dtype=bool)\n",
    "mask[[0,2,4]] = False  # set certain mask values to False\n",
    "result = a[mask]"
   ]
  },
  {
   "cell_type": "markdown",
   "metadata": {},
   "source": [
    "Check if you are correct by by printing the result below:"
   ]
  },
  {
   "cell_type": "code",
   "execution_count": 71,
   "metadata": {},
   "outputs": [
    {
     "name": "stdout",
     "output_type": "stream",
     "text": [
      "array([1, 3, 5, 6, 7, 8, 9])\n"
     ]
    }
   ],
   "source": [
    "## check using pprint\n",
    "pprint(result)"
   ]
  },
  {
   "cell_type": "markdown",
   "metadata": {},
   "source": [
    "Now write a function called `f_02_09` using `mask` to return an array function with the following elements from array `a` removed: 3, 5, and 9. <br>\n",
    "That is, the function should take the array `a` as input and return the 'modified' `a` (without elements 3, 5 and 9)."
   ]
  },
  {
   "cell_type": "code",
   "execution_count": 72,
   "metadata": {},
   "outputs": [],
   "source": [
    "## Solution...\n",
    "def f_02_09(a):\n",
    "    mask = np.ones(len(a), dtype=bool)\n",
    "    mask[[3,5,9]] = False  # set certain mask values to False\n",
    "    return a[mask]"
   ]
  },
  {
   "cell_type": "code",
   "execution_count": 73,
   "metadata": {},
   "outputs": [
    {
     "name": "stdout",
     "output_type": "stream",
     "text": [
      "[0 1 2 4 6 7 8]\n",
      "REFERENCE: exercise-2_9\n",
      "SATISFIED: True\n",
      "MESSAGES:\n",
      "  - SUCCESS: You are using the correct input parameter to test your function.\n",
      "  - SUCCESS: Great! Your function returns the correct result.\n"
     ]
    }
   ],
   "source": [
    "## The following code is used to check you solution and should not be modified\n",
    "## It should help you by providing feedback to the solution you have provided\n",
    "with pybryt.check(pybryt_reference(2, 9)):\n",
    "    print(f_02_09(a))"
   ]
  },
  {
   "cell_type": "markdown",
   "metadata": {
    "slideshow": {
     "slide_type": "subslide"
    }
   },
   "source": [
    "### Random number generation\n",
    "\n",
    "Numpy provides utilities for random number generation."
   ]
  },
  {
   "cell_type": "code",
   "execution_count": 74,
   "metadata": {
    "slideshow": {
     "slide_type": "-"
    }
   },
   "outputs": [
    {
     "name": "stdout",
     "output_type": "stream",
     "text": [
      "[0.44305852 0.95386158 0.56212243 0.075028   0.03166486 0.2011048\n",
      " 0.48286271 0.64068568 0.84718745 0.27534471]\n"
     ]
    }
   ],
   "source": [
    "# Create an array of 10 random real numbers\n",
    "a = np.random.ranf(10)\n",
    "print(a)"
   ]
  },
  {
   "cell_type": "code",
   "execution_count": 75,
   "metadata": {
    "slideshow": {
     "slide_type": "-"
    }
   },
   "outputs": [
    {
     "name": "stdout",
     "output_type": "stream",
     "text": [
      "array([[3, 0, 1, 1, 3],\n",
      "       [2, 2, 4, 0, 1],\n",
      "       [0, 4, 4, 1, 0],\n",
      "       [0, 1, 3, 4, 3],\n",
      "       [1, 3, 4, 0, 3]])\n"
     ]
    }
   ],
   "source": [
    "# Create a 2d array (5x5) reshaped matrix from a 1d array of (25) \n",
    "# random ints between 0 and 5 (not inclusive)\n",
    "a = np.random.randint(0,high=5,size=25).reshape(5,5)   \n",
    "pprint(a)"
   ]
  },
  {
   "cell_type": "code",
   "execution_count": 76,
   "metadata": {
    "slideshow": {
     "slide_type": "-"
    }
   },
   "outputs": [
    {
     "name": "stdout",
     "output_type": "stream",
     "text": [
      "array([[ 1.36226079, -0.28891337, -1.21691738,  1.60267694, -1.04257974],\n",
      "       [-1.85815006, -0.20871359, -0.19338865, -1.26658813, -0.70064382],\n",
      "       [ 1.06449474, -0.98048379, -1.6544126 , -0.11120894,  0.25267362],\n",
      "       [ 0.53561397,  0.56300278,  1.719397  , -0.06340691,  1.26038138],\n",
      "       [-1.66176567,  0.12064205, -0.05302683,  2.36037003, -2.09404932]])\n"
     ]
    }
   ],
   "source": [
    "# Generate sample from normal distribution\n",
    "# (mean=0, standard deviation=1)\n",
    "s = np.random.standard_normal((5,5))\n",
    "pprint(s)"
   ]
  },
  {
   "cell_type": "markdown",
   "metadata": {
    "collapsed": true,
    "slideshow": {
     "slide_type": "-"
    }
   },
   "source": [
    "### <span style=\"color:blue\">Exercise 2.10</span>\n",
    "\n",
    "Explore other ways of generating random numbers. <br>\n",
    "Below you will find an example for generating samples from a binomial distribution. <br>\n",
    "What other distributions can you sample? <br>\n",
    "Further documentation: https://numpy.org/doc/stable/reference/random/generator.html"
   ]
  },
  {
   "cell_type": "code",
   "execution_count": 77,
   "metadata": {},
   "outputs": [
    {
     "name": "stdout",
     "output_type": "stream",
     "text": [
      "array([3, 3, 3, 4, 1, 2, 3, 2, 1, 4, 5, 3, 1, 3, 3, 4, 3, 4, 2, 2, 2, 2,\n",
      "       3, 2, 3])\n"
     ]
    }
   ],
   "source": [
    "s = np.random.binomial(5, 0.5, size=25)\n",
    "pprint(s)"
   ]
  },
  {
   "cell_type": "code",
   "execution_count": 78,
   "metadata": {},
   "outputs": [
    {
     "name": "stdout",
     "output_type": "stream",
     "text": [
      "array([ 0.08687284, -0.67697685,  0.64412033, -1.39181443,  0.77473254,\n",
      "       -0.30502384, -2.02689041, -0.44717978, -0.28681492,  0.85698757])\n"
     ]
    }
   ],
   "source": [
    "# Test some other distributions here\n",
    "test = np.random.normal(loc=0, scale=1, size=10)\n",
    "pprint(test)"
   ]
  },
  {
   "cell_type": "markdown",
   "metadata": {
    "slideshow": {
     "slide_type": "slide"
    }
   },
   "source": [
    "### File operations\n",
    "\n",
    "Numpy provides an easy way to save data to text file and to read *structured* data."
   ]
  },
  {
   "cell_type": "code",
   "execution_count": 79,
   "metadata": {
    "slideshow": {
     "slide_type": "-"
    }
   },
   "outputs": [
    {
     "name": "stdout",
     "output_type": "stream",
     "text": [
      "[0 1 2 3 4]\n",
      "[0.27789116 0.97087898 0.34231639 0.8320302  0.34077559]\n"
     ]
    }
   ],
   "source": [
    "# Generate an array of 5 random real numbers\n",
    "pts = 5\n",
    "x = np.arange(pts)\n",
    "y = np.random.random(pts)\n",
    "print(x)\n",
    "print(y)"
   ]
  },
  {
   "cell_type": "code",
   "execution_count": 80,
   "metadata": {},
   "outputs": [
    {
     "name": "stdout",
     "output_type": "stream",
     "text": [
      "# DATA\r\n",
      "0 0.2779\r\n",
      "1 0.9709\r\n",
      "2 0.3423\r\n",
      "3 0.8320\r\n",
      "4 0.3408\r\n",
      "# END\r\n"
     ]
    }
   ],
   "source": [
    "# data format specifiers: d = int, f = float, e = exponential\n",
    "np.savetxt('savedata.txt', np.stack((x,y),axis=1), header='DATA', \\\n",
    "           footer='END', fmt='%d %1.4f')\n",
    "!cat savedata.txt"
   ]
  },
  {
   "cell_type": "code",
   "execution_count": 81,
   "metadata": {
    "slideshow": {
     "slide_type": "-"
    }
   },
   "outputs": [
    {
     "name": "stdout",
     "output_type": "stream",
     "text": [
      "[[0.     0.2779]\n",
      " [1.     0.9709]\n",
      " [2.     0.3423]\n",
      " [3.     0.832 ]\n",
      " [4.     0.3408]]\n"
     ]
    }
   ],
   "source": [
    "# Reload data to an array\n",
    "p = np.loadtxt('savedata.txt')\n",
    "print(p)"
   ]
  },
  {
   "cell_type": "markdown",
   "metadata": {},
   "source": [
    "More flexibility is offered with `genfromtext()`  (see docstring via `?np.genfromtxt`/`help(np.genfromtxt`)"
   ]
  },
  {
   "cell_type": "code",
   "execution_count": 82,
   "metadata": {
    "slideshow": {
     "slide_type": "-"
    }
   },
   "outputs": [
    {
     "name": "stdout",
     "output_type": "stream",
     "text": [
      "[[1.     0.9709]\n",
      " [2.     0.3423]\n",
      " [3.     0.832 ]]\n"
     ]
    }
   ],
   "source": [
    "p = np.genfromtxt('savedata.txt', skip_header=2, skip_footer=1)\n",
    "print(p)"
   ]
  },
  {
   "cell_type": "markdown",
   "metadata": {},
   "source": [
    "However, be aware that using plain text files for data is considered bad practice due to the lack of any form of standardization. For example, later in this module you will be introduced to [Pandas](https://pandas.pydata.org/) which is designed to handle structured data."
   ]
  },
  {
   "cell_type": "markdown",
   "metadata": {
    "slideshow": {
     "slide_type": "-"
    }
   },
   "source": [
    "### <span style=\"color:blue\">Exercise 2.11</span>\n",
    "\n",
    "What do `numpy.save()` and `numpy.load()` do ?"
   ]
  },
  {
   "cell_type": "code",
   "execution_count": 83,
   "metadata": {
    "scrolled": true
   },
   "outputs": [
    {
     "name": "stdout",
     "output_type": "stream",
     "text": [
      "# DATA\r\n",
      "0 0.2779\r\n",
      "1 0.9709\r\n",
      "2 0.3423\r\n",
      "3 0.8320\r\n",
      "4 0.3408\r\n",
      "# END\r\n"
     ]
    }
   ],
   "source": [
    "# try using numpy.save() and numpy.load() here:\n",
    "x = np.arange(8)\n",
    "y = np.array([2,0,0,0,1,1,0,4])\n",
    "np.savetxt('personalnumpy.txt', np.stack((x,y),axis=1), header='DATA', \\\n",
    "           footer='END', fmt='%d %1.4f')\n",
    "!cat savedata.txt"
   ]
  },
  {
   "cell_type": "code",
   "execution_count": 84,
   "metadata": {},
   "outputs": [
    {
     "name": "stdout",
     "output_type": "stream",
     "text": [
      "[[0.     0.2779]\n",
      " [1.     0.9709]\n",
      " [2.     0.3423]\n",
      " [3.     0.832 ]\n",
      " [4.     0.3408]]\n"
     ]
    }
   ],
   "source": [
    "p = np.loadtxt('savedata.txt')\n",
    "print(p)"
   ]
  },
  {
   "cell_type": "markdown",
   "metadata": {},
   "source": [
    "### Linear algebra with `numpy.linalg`\n",
    " \n",
    "`NumPy` provides some linear algebra capabilities, from matrix-vector products to matrix inversion and solving linear systems of equations."
   ]
  },
  {
   "cell_type": "markdown",
   "metadata": {},
   "source": [
    "Simple matrix vector products are part of core `NumPy`:"
   ]
  },
  {
   "cell_type": "code",
   "execution_count": 85,
   "metadata": {},
   "outputs": [
    {
     "name": "stdout",
     "output_type": "stream",
     "text": [
      "[ 8 20 31]\n"
     ]
    }
   ],
   "source": [
    "A = np.array([[1,2,3],[4,5,6],[7,8,8]])\n",
    "B = np.array([1,2,1])\n",
    "\n",
    "print(np.dot(A,B))"
   ]
  },
  {
   "cell_type": "markdown",
   "metadata": {},
   "source": [
    "The `numpy.linalg` module is necessary for more complex operations."
   ]
  },
  {
   "cell_type": "code",
   "execution_count": 86,
   "metadata": {},
   "outputs": [],
   "source": [
    "import numpy.linalg as la"
   ]
  },
  {
   "cell_type": "markdown",
   "metadata": {},
   "source": [
    "The incorporates a larger suite of standard linear algebra operations:"
   ]
  },
  {
   "cell_type": "code",
   "execution_count": 87,
   "metadata": {},
   "outputs": [
    {
     "name": "stdout",
     "output_type": "stream",
     "text": [
      "2.449489742783178\n",
      "16.3707055437449\n",
      "2.999999999999999\n"
     ]
    }
   ],
   "source": [
    "n = la.norm(B)\n",
    "print(n)\n",
    "\n",
    "n = la.norm(A)\n",
    "print(n)\n",
    "\n",
    "d = la.det(A)\n",
    "print(d)"
   ]
  },
  {
   "cell_type": "markdown",
   "metadata": {},
   "source": [
    "And it is possible to efficiently solve linear systems (under the hood `NumPy` is using optimised pre-compiled low level C/Fortran code):"
   ]
  },
  {
   "cell_type": "code",
   "execution_count": 88,
   "metadata": {},
   "outputs": [
    {
     "data": {
      "text/plain": [
       "array([ 1.66666667, -3.33333333,  2.        ])"
      ]
     },
     "execution_count": 88,
     "metadata": {},
     "output_type": "execute_result"
    }
   ],
   "source": [
    "la.solve(A,B)"
   ]
  },
  {
   "cell_type": "markdown",
   "metadata": {},
   "source": [
    "or to invert matrices (which is generally a very expensive operation)"
   ]
  },
  {
   "cell_type": "code",
   "execution_count": 89,
   "metadata": {},
   "outputs": [
    {
     "name": "stdout",
     "output_type": "stream",
     "text": [
      "[[-2.66666667  2.66666667 -1.        ]\n",
      " [ 3.33333333 -4.33333333  2.        ]\n",
      " [-1.          2.         -1.        ]]\n"
     ]
    }
   ],
   "source": [
    "A_inv = la.inv(A)\n",
    "print(A_inv)"
   ]
  },
  {
   "cell_type": "markdown",
   "metadata": {},
   "source": [
    "The eigen decomposition (of a square matrix) can also be computed:"
   ]
  },
  {
   "cell_type": "code",
   "execution_count": 90,
   "metadata": {},
   "outputs": [
    {
     "name": "stdout",
     "output_type": "stream",
     "text": [
      "[15.55528261 -1.41940876 -0.13587385]\n",
      "array([[-0.24043423, -0.67468642,  0.51853459],\n",
      "       [-0.54694322, -0.23391616, -0.78895962],\n",
      "       [-0.80190056,  0.70005819,  0.32964312]])\n"
     ]
    }
   ],
   "source": [
    "# Get the eigenvalues and eigenvectors of the matrix A\n",
    "eival, eivec = la.eig(A)\n",
    "print(eival)\n",
    "pprint(eivec)"
   ]
  },
  {
   "cell_type": "markdown",
   "metadata": {
    "slideshow": {
     "slide_type": "slide"
    }
   },
   "source": [
    "### Performance\n",
    "\n",
    "Python has a convenient timing function called `timeit`.\n",
    "\n",
    "This can be used to measure the execution time of small code snippets.\n",
    "\n",
    "* From python: `import timeit` and supply code  snippet as a string\n",
    "* From ipython: can use magic command `%timeit`\n",
    "\n",
    "By default, `%timeit` loops (repeats) over your code 3 times and outputs the best time. It also tells you how many iterations it ran the code per loop. \n",
    "You can specify the number of loops and the number of iterations per loop.\n",
    "```\n",
    "%timeit -n <iterations> -r <repeats>  <code_snippet>\n",
    "```\n",
    "\n",
    "See\n",
    "\n",
    "* `%timeit?` for more information\n",
    "* https://docs.python.org/2/library/timeit.html\n"
   ]
  },
  {
   "cell_type": "markdown",
   "metadata": {
    "slideshow": {
     "slide_type": "subslide"
    }
   },
   "source": [
    "### <span style=\"color:blue\">Exercise 2.12</span>\n",
    "\n",
    "Here are some `timeit` experiments for you to try. Check which methods are faster?"
   ]
  },
  {
   "cell_type": "code",
   "execution_count": 91,
   "metadata": {
    "slideshow": {
     "slide_type": "-"
    }
   },
   "outputs": [
    {
     "name": "stdout",
     "output_type": "stream",
     "text": [
      "158 ns ± 8.8 ns per loop (mean ± std. dev. of 3 runs, 10,000,000 loops each)\n",
      "78.7 ns ± 0.63 ns per loop (mean ± std. dev. of 3 runs, 10,000,000 loops each)\n"
     ]
    }
   ],
   "source": [
    "# Accessing a 2d array\n",
    "nd = np.arange(100).reshape((10,10))\n",
    "\n",
    "# accessing element of 2d array\n",
    "%timeit -n 10000000 -r 3 nd[5][5]\n",
    "%timeit -n 10000000 -r 3 nd[5,5]"
   ]
  },
  {
   "cell_type": "code",
   "execution_count": 92,
   "metadata": {
    "slideshow": {
     "slide_type": "-"
    }
   },
   "outputs": [
    {
     "name": "stdout",
     "output_type": "stream",
     "text": [
      "168 ms ± 26.9 ms per loop (mean ± std. dev. of 10 runs, 1 loop each)\n",
      "130 ms ± 4.04 ms per loop (mean ± std. dev. of 10 runs, 1 loop each)\n"
     ]
    }
   ],
   "source": [
    "# Multiplying two vectors\n",
    "x = np.arange(10E7)\n",
    "%timeit -n 1 -r 10 x*x\n",
    "%timeit -n 1 -r 10 x**2"
   ]
  },
  {
   "cell_type": "code",
   "execution_count": 93,
   "metadata": {
    "slideshow": {
     "slide_type": "-"
    }
   },
   "outputs": [
    {
     "name": "stdout",
     "output_type": "stream",
     "text": [
      "39.3 ms ± 13.5 µs per loop (mean ± std. dev. of 7 runs, 10 loops each)\n",
      "76.8 ms ± 2.86 ms per loop (mean ± std. dev. of 7 runs, 10 loops each)\n",
      "2.13 ms ± 288 µs per loop (mean ± std. dev. of 7 runs, 100 loops each)\n"
     ]
    }
   ],
   "source": [
    "# Comparing range functions and iterating in loops\n",
    "# Note: some distributions may see overflow in range() example\n",
    "\n",
    "size = int(1E6)\n",
    "\n",
    "%timeit for x in range(size): x**2\n",
    "\n",
    "%timeit for x in np.arange(size): x**2\n",
    "\n",
    "%timeit np.arange(size)**2"
   ]
  },
  {
   "cell_type": "code",
   "execution_count": 94,
   "metadata": {
    "scrolled": true
   },
   "outputs": [
    {
     "name": "stdout",
     "output_type": "stream",
     "text": [
      "17.5 ms ± 1.43 ms per loop (mean ± std. dev. of 10 runs, 1 loop each)\n"
     ]
    }
   ],
   "source": [
    "# Extra : from the linear algebra package\n",
    "%timeit -n 1 -r 10 np.dot(x,x)"
   ]
  },
  {
   "cell_type": "code",
   "execution_count": 95,
   "metadata": {},
   "outputs": [
    {
     "name": "stdout",
     "output_type": "stream",
     "text": [
      "142 ns ± 142 ns per loop (mean ± std. dev. of 10 runs, 1 loop each)\n",
      "129 ns ± 97.6 ns per loop (mean ± std. dev. of 10 runs, 1 loop each)\n",
      "117 ns ± 90.6 ns per loop (mean ± std. dev. of 10 runs, 1 loop each)\n"
     ]
    }
   ],
   "source": [
    "%timeit -n 1 -r 10 100*0.001\n",
    "%timeit -n 1 -r 10 10*0.01\n",
    "%timeit -n 1 -r 10 10/100"
   ]
  },
  {
   "cell_type": "markdown",
   "metadata": {},
   "source": [
    "##### The importance of vectorisation\n",
    "\n",
    "Below are two versions of 'the same' function:"
   ]
  },
  {
   "cell_type": "code",
   "execution_count": 96,
   "metadata": {},
   "outputs": [],
   "source": [
    "def add_vectors_loop(a, b):\n",
    "    assert a.size == b.size\n",
    "    c = np.zeros(a.shape)\n",
    "    for i in range(0, a.size):\n",
    "        c[i] = a[i] + b[i]\n",
    "    return c\n",
    "\n",
    "def add_vectors_vectorized(a, b):\n",
    "    assert a.size == b.size\n",
    "    c = np.zeros(a.shape)\n",
    "    c = a + b\n",
    "    return c"
   ]
  },
  {
   "cell_type": "markdown",
   "metadata": {},
   "source": [
    "Create two large (~1000 or more elements) vectors `a` and `b`. Measure the execution time of each of the above functions for the vectors `a` and `b`. What do you observe?"
   ]
  },
  {
   "cell_type": "code",
   "execution_count": 97,
   "metadata": {},
   "outputs": [
    {
     "name": "stdout",
     "output_type": "stream",
     "text": [
      "255 ms ± 41.8 ms per loop (mean ± std. dev. of 10 runs, 1 loop each)\n",
      "1.89 ms ± 123 µs per loop (mean ± std. dev. of 10 runs, 1 loop each)\n"
     ]
    }
   ],
   "source": [
    "# Write solution here\n",
    "a = np.arange(10E5)\n",
    "b = np.arange(10E5)\n",
    "%timeit -n 1 -r 10 add_vectors_loop(a, b)\n",
    "%timeit -n 1 -r 10 add_vectors_vectorized(a, b)"
   ]
  },
  {
   "cell_type": "markdown",
   "metadata": {},
   "source": [
    "Note that while the above exercise is simplistic, it illustrates the importance of using vectorized code at the python level when able."
   ]
  },
  {
   "cell_type": "markdown",
   "metadata": {},
   "source": [
    "### <span style=\"color:blue\">Exercise 2.13</span>\n",
    "\n",
    "The Taylor series expansion for the trigonometric function $\\arctan(y)$ is:\n",
    "\n",
    "$$\\arctan ( y) \\, = \\,y - \\frac{y^3}{3} + \\frac{y^5}{5}  - \\frac{y^7}{7}  + \\dots $$\n",
    "Now, $\\arctan(1) = \\pi/4 $, so\n",
    "$$ \\pi = 4 \\, \\Big( 1- \\frac{1}{3} + \\frac{1}{5} - \\frac{1}{7} + ... \\Big) $$\n",
    "<br>\n",
    "\n",
    "We can represent the first few terms of the series expansion of $\\arctan(y)$ using a numpy `Polynomial`, with coefficients:\n",
    "$$0, +1, 0, -1/3, 0, +1/5, 0, -1/7,\\ldots\\,$$ \n",
    "and then use it to approximate $\\pi$.\n",
    "\n",
    "Write a function called `arctan` using the expansion above and use it to calculate an approximation of $\\pi$ using numpy polynomials."
   ]
  },
  {
   "cell_type": "code",
   "execution_count": 103,
   "metadata": {},
   "outputs": [],
   "source": [
    "## You should use numpy.polynmial in your function so lets import it\n",
    "from numpy.polynomial import Polynomial"
   ]
  },
  {
   "cell_type": "code",
   "execution_count": 108,
   "metadata": {},
   "outputs": [],
   "source": [
    "## Solution...\n",
    "def arctan_poly(n_terms):\n",
    "    \"\"\"\n",
    "    Returns a Polynomial representing the arctan expansion up to n_terms.\n",
    "    \"\"\"\n",
    "    coefficients = [0] * (2*n_terms)\n",
    "    \n",
    "    # Construct the coefficients for the Taylor series of arctan\n",
    "    for i in range(n_terms):\n",
    "        coefficient_index = 2*i + 1\n",
    "        coefficient_value = (-1)**i / coefficient_index\n",
    "        coefficients[coefficient_index] = coefficient_value\n",
    "    \n",
    "    return Polynomial(coefficients)\n",
    "\n",
    "def arctan(y, n_terms=1000):\n",
    "    \"\"\"\n",
    "    Approximates arctan(y) using the Taylor series expansion up to n_terms.\n",
    "    \"\"\"\n",
    "    p = arctan_poly(n_terms)\n",
    "    return p(y)"
   ]
  },
  {
   "cell_type": "code",
   "execution_count": 109,
   "metadata": {},
   "outputs": [
    {
     "name": "stdout",
     "output_type": "stream",
     "text": [
      "3.140592653839793\n",
      "REFERENCE: exercise-2_13\n",
      "SATISFIED: False\n",
      "MESSAGES:\n",
      "  - ERROR: Your function doesn`t calculate arctan(1) to a sufficent accuracy \n"
     ]
    }
   ],
   "source": [
    "## The following code is used to check you solution and should not be modified\n",
    "## It should help you by providing feedback to the solution you have provided\n",
    "with pybryt.check(pybryt_reference(2, 13)):\n",
    "    print(4.0*arctan(1))"
   ]
  },
  {
   "cell_type": "markdown",
   "metadata": {},
   "source": [
    "#### Bonus exercise:\n",
    "\n",
    "Find the number of terms required to achieve an approximation of $\\pi$ with an accuracy of order $10^{-4}$. (You can check the difference against `numpy.pi`).\n",
    "\n",
    "Suggestion: Perhaps start by generating a 1D array with the coefficients of the `arctan` expansion. Let the function that returns the 1D array be called `poly_coeff_arctan_ext`. The input argument to the function `poly_coeff_arctan_ext` should be number of terms in the expansion (including the zeros), e.g. the previous expansion up to \"-1/7\" coefficient contained 8 terms.\n",
    "\n",
    "Let your final result be called `mypi`. It will be checked against a referenced solution to provide you with some feedback."
   ]
  },
  {
   "cell_type": "code",
   "execution_count": 112,
   "metadata": {},
   "outputs": [],
   "source": [
    "import numpy as np\n",
    "import pybryt\n",
    "\n",
    "def poly_coeff_arctan_ext(n_terms):\n",
    "    \"\"\"\n",
    "    Returns the coefficients (including zeros) for the Taylor series expansion of arctan up to n_terms.\n",
    "    \"\"\"\n",
    "    coefficients = [0] * n_terms\n",
    "    for i in range(1, n_terms, 2):  # Iterating over odd numbers up to n_terms\n",
    "        coefficient_value = (-1)**((i-1)//2) / i\n",
    "        coefficients[i] = coefficient_value\n",
    "    return coefficients\n",
    "\n",
    "def approximate_pi_till_accuracy(accuracy=1e-4):\n",
    "    terms = 1\n",
    "    while True:\n",
    "        coefficients = poly_coeff_arctan_ext(terms)\n",
    "        approximation = 4 * np.polyval(coefficients[::-1], 1)  # Reverse the list for np.polyval and evaluate at 1\n",
    "        if abs(approximation - np.pi) < accuracy:\n",
    "            return approximation\n",
    "        terms += 2  # We only need to increase by 2 as we are only interested in odd terms\n",
    "\n",
    "\n",
    "mypi = approximate_pi_till_accuracy()"
   ]
  },
  {
   "cell_type": "code",
   "execution_count": 126,
   "metadata": {},
   "outputs": [
    {
     "data": {
      "text/plain": [
       "3.1414926535900434"
      ]
     },
     "execution_count": 126,
     "metadata": {},
     "output_type": "execute_result"
    }
   ],
   "source": [
    "mypi"
   ]
  },
  {
   "cell_type": "code",
   "execution_count": 113,
   "metadata": {},
   "outputs": [
    {
     "name": "stdout",
     "output_type": "stream",
     "text": [
      "REFERENCE: exercise-2_131\n",
      "SATISFIED: False\n",
      "MESSAGES:\n",
      "  - Your approx. of pi is accurate to 2 digits.\n",
      "  - Your approx. of pi is accurate to 3 digits.\n",
      "  - Your approx. of pi is accurate to 4 digits.\n",
      " \n",
      " \n",
      " \n",
      " \n",
      " \n",
      " \n",
      "  - ERROR: Your `poly_coeff_arctan_ext` function returns the correct array of the coefficients\n",
      "  - Well done! No large iterator loops were detected.\n"
     ]
    }
   ],
   "source": [
    "## The following code is used to check your solution and should not be modified\n",
    "## It should help you by providing feedback to the solution you have provided\n",
    "with pybryt.check(pybryt_reference(2, 131)):\n",
    "    poly_coeff_arctan_ext(10000)\n",
    "    mypi"
   ]
  },
  {
   "cell_type": "markdown",
   "metadata": {},
   "source": [
    "### <span style=\"color:blue\">Exercise 2.14</span> : Darts (calculating $\\pi$ again)\n",
    "\n",
    "\n",
    "#### A Monte Carlo method (aka \"throwing darts\")\n",
    "\n",
    "Geometry gives us an expression for $\\pi$:\n",
    "\n",
    "Let $N_{in}$ be the number of darts falling on the board, and $N_{tot}=N_{in}+N_{out}$ the total number of trials.\n",
    "\n",
    "![](figures/darts.png)\n",
    "\n",
    "Owing to the geometry we then have\n",
    "$$\n",
    "\\pi \\approx 4 N_{in} / N_{tot}.\n",
    "$$\n",
    "\n",
    "Try using `nparray`s to approximate $\\pi$ according to the following algorithm:\n",
    "1. Choose a sample size `ntot`.\n",
    "2. Generate an array of random $x$ coordinates $0 \\leq x < 1$.\n",
    "3. Generate an array of random $y$ coordinates $0 \\leq y < 1$.\n",
    "4. Count the number for which $x^2 + y^2 < 1$.\n",
    "5. Compute an approximate $\\pi$.\n",
    "6. Repeat for several values of `ntot` and print the error.\n",
    "\n",
    "The name of the function you should use should be `f_02_14(ntot)` where `ntot` is the number of trials/throws."
   ]
  },
  {
   "cell_type": "code",
   "execution_count": 138,
   "metadata": {},
   "outputs": [
    {
     "name": "stdout",
     "output_type": "stream",
     "text": [
      "3.14159084\n"
     ]
    }
   ],
   "source": [
    "## Solution... (don't forget to set ntot!)\n",
    "def f_02_14(ntot):\n",
    "    x = np.random.random_sample(ntot)\n",
    "    y = np.random.random_sample(ntot)\n",
    "    \n",
    "    distances_squared = x**2 + y**2\n",
    "    count_inside_circle = np.sum(distances_squared < 1)\n",
    "    \n",
    "    return 4 * count_inside_circle / ntot\n",
    "\n",
    "ntot = 100000000\n",
    "print(f_02_14(ntot)) "
   ]
  },
  {
   "cell_type": "code",
   "execution_count": 139,
   "metadata": {},
   "outputs": [
    {
     "name": "stdout",
     "output_type": "stream",
     "text": [
      "3.14158108\n",
      "REFERENCE: exercise-2_14\n",
      "SATISFIED: False\n",
      "MESSAGES:\n",
      "  - Nice. No loops could be found in your function.\n",
      "  - Your approx. of pi is accurate to 2 digits.\n",
      "  - Your approx. of pi is accurate to 3 digits.\n",
      "  - Your approx. of pi is accurate to 4 digits.\n",
      " \n",
      " \n",
      " \n",
      " \n",
      " \n",
      " \n",
      "  - Well done! No large iterator loops were detected.\n"
     ]
    }
   ],
   "source": [
    "## The following code is used to check you solution and should not be modified\n",
    "## It should help you by providing feedback to the solution you have provided\n",
    "with pybryt.check(pybryt_reference(2, 14)):\n",
    "    print(f_02_14(ntot))    "
   ]
  },
  {
   "cell_type": "markdown",
   "metadata": {},
   "source": [
    "## The `SciPy` library:"
   ]
  },
  {
   "cell_type": "markdown",
   "metadata": {},
   "source": [
    "`SciPy` provides a wide range of user-friendly routines (often built on `NumPy`) needed in scientific work. It is organised in several sub-modules:\n",
    "  * `scipy.constants`\n",
    "  * `scipy.special`\n",
    "  * `scipy.io`\n",
    "  * `scipy.linalg`\n",
    "  * `scipy.sparse`\n",
    "  * `scipy.integrate`\n",
    "  * `scipy.interpolate`\n",
    "  * `scipy.stats`\n",
    "  * `scipy.cluster`\n",
    "  * `scipy.odr`\n",
    "  * `scipy.optimize`\n",
    "  * `scipy.signal`\n",
    "  * `scipy.fftpack`\n",
    "  * `scipy.ndimage`\n",
    "  * `scipy.spatial`"
   ]
  },
  {
   "cell_type": "markdown",
   "metadata": {},
   "source": [
    "### Linear algebra\n",
    "\n",
    "[scipy.linalg](https://docs.scipy.org/doc/scipy/reference/linalg.html) contains additional routines compared to `numpy.linalg`"
   ]
  },
  {
   "cell_type": "code",
   "execution_count": null,
   "metadata": {},
   "outputs": [],
   "source": [
    "import scipy.linalg as sla"
   ]
  },
  {
   "cell_type": "markdown",
   "metadata": {},
   "source": [
    "Construct an orthonormal basis for the range of `A` using its [singular value decomposition](https://en.wikipedia.org/wiki/Singular_value_decomposition) (SVD):"
   ]
  },
  {
   "cell_type": "code",
   "execution_count": null,
   "metadata": {},
   "outputs": [],
   "source": [
    "A = np.array([[2,1,1],[1,2,1],[1,1,2]])\n",
    "b = np.array([1,2,3])\n",
    "\n",
    "orth_basis = sla.orth(A)\n",
    "pprint(orth_basis)"
   ]
  },
  {
   "cell_type": "markdown",
   "metadata": {},
   "source": [
    "Compute the [Schur decomposition](https://en.wikipedia.org/wiki/Schur_decomposition) of a matrix:"
   ]
  },
  {
   "cell_type": "code",
   "execution_count": null,
   "metadata": {},
   "outputs": [],
   "source": [
    "A = np.array([[0, 2, 2], [0, 1, 2], [1, 0, 1]])\n",
    "T, Z = sla.schur(A)\n",
    "pprint(T)\n",
    "pprint(Z)\n",
    "print(\"A == Z.T.Z^t: \", np.allclose(A, Z.dot(T).dot(Z.transpose())))"
   ]
  },
  {
   "cell_type": "markdown",
   "metadata": {},
   "source": [
    "### Integration\n",
    "\n",
    "`scipy.integrate` contains routines to intgrate expressions as well as discrete data:"
   ]
  },
  {
   "cell_type": "code",
   "execution_count": null,
   "metadata": {},
   "outputs": [],
   "source": [
    "import scipy.integrate as sint"
   ]
  },
  {
   "cell_type": "code",
   "execution_count": null,
   "metadata": {},
   "outputs": [],
   "source": [
    "x2 = lambda x: x**2\n",
    "sint.quad(x2, 0, 4)"
   ]
  },
  {
   "cell_type": "code",
   "execution_count": null,
   "metadata": {},
   "outputs": [],
   "source": [
    "x = np.arange(0, 10)\n",
    "y = np.arange(0, 10)\n",
    "y = np.power(x, 1)\n",
    "sint.simps(y, x)"
   ]
  },
  {
   "cell_type": "markdown",
   "metadata": {},
   "source": [
    "### Interpolation\n",
    "\n",
    "`scipy.interpolate` provides functions to interpolate data (regression, curve fitting, etc)"
   ]
  },
  {
   "cell_type": "code",
   "execution_count": null,
   "metadata": {},
   "outputs": [],
   "source": [
    "import scipy.interpolate as sitp"
   ]
  },
  {
   "cell_type": "markdown",
   "metadata": {},
   "source": [
    "Find the Lagrange polynomial (polynomial that passes through all data points) :"
   ]
  },
  {
   "cell_type": "code",
   "execution_count": null,
   "metadata": {
    "scrolled": true
   },
   "outputs": [],
   "source": [
    "%matplotlib notebook\n",
    "import matplotlib.pyplot as plt\n",
    "\n",
    "# Invent some raw data \n",
    "x=np.array([0.5,2.0,4.0,5.0,7.0,9.0])\n",
    "y=np.array([0.5,0.4,0.3,0.1,0.9,0.8])\n",
    "\n",
    "## scipy.interpolate returns a numpy.poly1d instance\n",
    "lp=sitp.lagrange(x, y)\n",
    "\n",
    "xx= np.linspace(0.4, 9.1, 100)\n",
    "fig = plt.figure()\n",
    "plt.plot(x,y, \"o\", xx, lp(xx))\n",
    "plt.show()"
   ]
  },
  {
   "cell_type": "markdown",
   "metadata": {},
   "source": [
    "Fit a polynomial of arbitrary degree to a data set. Notice that the object returned is not a function this time and needs to be transformed into a function."
   ]
  },
  {
   "cell_type": "code",
   "execution_count": null,
   "metadata": {},
   "outputs": [],
   "source": [
    "poly_coeffs=np.polyfit(x, y, 3)\n",
    "p3 = np.poly1d(poly_coeffs)\n",
    "fig = plt.figure()\n",
    "plt.plot(x, y, \"o\", xx, p3(xx), 'g', label='Cubic')\n",
    "plt.show()"
   ]
  },
  {
   "cell_type": "markdown",
   "metadata": {},
   "source": [
    "### Optimisation\n",
    "\n",
    "`scipy.optimise` provides a very wide range of optimisation methods: Newton-like minimization algorithms, least square methods, root finding... \n",
    "\n",
    "NB. Examples below are inspired from the official documentation. Interesting examples require setting up complex problems and exceed the scope of this module. You will however encounter more involved optimisation problems later in the course!"
   ]
  },
  {
   "cell_type": "code",
   "execution_count": null,
   "metadata": {},
   "outputs": [],
   "source": [
    "import scipy.optimize as sopt"
   ]
  },
  {
   "cell_type": "markdown",
   "metadata": {},
   "source": [
    "Let's find the minimum of a simple 1D function: <br>\n",
    "\n",
    "$$ f(x) = -e^{-(x-0.2)^2} $$"
   ]
  },
  {
   "cell_type": "code",
   "execution_count": null,
   "metadata": {},
   "outputs": [],
   "source": [
    "## Lets define the function and then pass it to the scipy optimize routine\n",
    "\n",
    "def f(x):\n",
    "    return -np.exp(-(x - 0.2)**2)\n",
    "\n",
    "result = sopt.minimize_scalar(f)\n",
    "\n",
    "x_min = result.x\n",
    "print(x_min)"
   ]
  },
  {
   "cell_type": "code",
   "execution_count": null,
   "metadata": {
    "scrolled": true
   },
   "outputs": [],
   "source": [
    "f(x_min)"
   ]
  },
  {
   "cell_type": "code",
   "execution_count": null,
   "metadata": {},
   "outputs": [],
   "source": [
    "x = np.linspace(-10, 10, 100)\n",
    "\n",
    "plt.figure(figsize=(5,5))\n",
    "plt.plot(x, f(x))\n",
    "plt.show()"
   ]
  },
  {
   "cell_type": "markdown",
   "metadata": {},
   "source": [
    "And now a more complex 2D one:\n",
    "\n",
    "$$ f(x,y)=\\frac{1}{2}(1-x)^{2}+(y-x^{2})^{2} $$\n"
   ]
  },
  {
   "cell_type": "code",
   "execution_count": null,
   "metadata": {},
   "outputs": [],
   "source": [
    "def f(x):   # rosenbrock function\n",
    "    return .5*(1 - x[0])**2 + (x[1] - x[0]**2)**2\n",
    "\n",
    "def jacobian(x):\n",
    "    return np.array((-2*.5*(1 - x[0]) - 4*x[0]*(x[1] - x[0]**2), 2*(x[1] - x[0]**2)))\n",
    "\n",
    "sopt.minimize(f, [2,-1], method=\"Newton-CG\", jac=jacobian) "
   ]
  },
  {
   "cell_type": "markdown",
   "metadata": {},
   "source": [
    "### Special functions\n",
    "\n",
    "`scipy.specials` provides a certain number of useful mathematical functions: Airy functions, Bessel functions, elliptic integrals, gamma function, erf, binomial law, etc. <br>\n",
    "\n",
    "Reference documentation: https://docs.scipy.org/doc/scipy/reference/special.html"
   ]
  },
  {
   "cell_type": "markdown",
   "metadata": {},
   "source": [
    "## Plotting with Matplotlib"
   ]
  },
  {
   "cell_type": "markdown",
   "metadata": {},
   "source": [
    "From the official [documentation](https://matplotlib.org/):\n",
    "> Matplotlib is a Python 2D plotting library which produces publication quality figures in a variety of hardcopy formats and interactive environments across platforms. [...]\n",
    "\n",
    "> Matplotlib tries to make easy things easy and hard things possible. You can generate plots, histograms, power spectra, bar charts, errorcharts, scatterplots, etc., with just a few lines of code. For examples, see the sample plots and thumbnail gallery.\n",
    "\n",
    "> For simple plotting the pyplot module provides a MATLAB-like interface, particularly when combined with IPython. For the power user, you have full control of line styles, font properties, axes properties, etc, via an object oriented interface or via a set of functions familiar to MATLAB users.\n",
    "\n",
    "In this notebook, we are mostly focused on the [`matplotlib.pyplot`](http://matplotlib.org/api/pyplot_summary.html) submodule."
   ]
  },
  {
   "cell_type": "markdown",
   "metadata": {},
   "source": [
    "### Importing Matplotlib\n",
    "\n",
    "The most standard:\n",
    "```\n",
    "import matplotlib.pyplot as plt\n",
    "```\n",
    "Imports such as `from matplotlib.pyplot import *` should be avoided, this will pollute your `namespace`!\n",
    "\n",
    "iPython magic can be used to display plots in the browser:\n",
    "```\n",
    "%matplotlib inline\n",
    "```\n",
    "or for fancier dynamic plots\n",
    "```\n",
    "%matplotlib notebook\n",
    "```\n",
    "You can see what magic commands do by typing `?%matplotlib inline`. Note that, in that case, you need to import `pyplot` **after** the magic command."
   ]
  },
  {
   "cell_type": "markdown",
   "metadata": {},
   "source": [
    "### Basic plots"
   ]
  },
  {
   "cell_type": "markdown",
   "metadata": {},
   "source": [
    "Let's prepare some data:"
   ]
  },
  {
   "cell_type": "code",
   "execution_count": 141,
   "metadata": {},
   "outputs": [],
   "source": [
    "import numpy as np\n",
    "%matplotlib notebook\n",
    "import matplotlib.pyplot as plt\n",
    "\n",
    "x = np.linspace(0, 2*np.pi, 100)\n",
    "y = np.sin(x)\n",
    "z = np.sin(x+np.pi/2)"
   ]
  },
  {
   "cell_type": "markdown",
   "metadata": {},
   "source": [
    "Plotting this data is as simple as:"
   ]
  },
  {
   "cell_type": "code",
   "execution_count": null,
   "metadata": {},
   "outputs": [],
   "source": [
    "fig = plt.figure()\n",
    "\n",
    "plt.plot(x, y)\n",
    "plt.plot(x, z)\n",
    "plt.show()"
   ]
  },
  {
   "cell_type": "markdown",
   "metadata": {},
   "source": [
    "or"
   ]
  },
  {
   "cell_type": "code",
   "execution_count": null,
   "metadata": {},
   "outputs": [],
   "source": [
    "fig = plt.figure()\n",
    "\n",
    "plt.plot(x,y, x, z)\n",
    "plt.show()"
   ]
  },
  {
   "cell_type": "markdown",
   "metadata": {},
   "source": [
    "We can specify axes limits and titles, and a global plot title:"
   ]
  },
  {
   "cell_type": "code",
   "execution_count": null,
   "metadata": {},
   "outputs": [],
   "source": [
    "fig = plt.figure()\n",
    "\n",
    "plt.xlim((x.max()*0.25, x.max()*0.75))\n",
    "plt.xlabel(\"x\")\n",
    "plt.title(\"Trigonometry\")\n",
    "plt.plot(x,y, x, z)\n",
    "plt.show()"
   ]
  },
  {
   "cell_type": "markdown",
   "metadata": {},
   "source": [
    "as well as legends:"
   ]
  },
  {
   "cell_type": "code",
   "execution_count": null,
   "metadata": {},
   "outputs": [],
   "source": [
    "fig = plt.figure()\n",
    "\n",
    "plt.xlabel(\"x\")\n",
    "plt.plot(x,y, x, z)\n",
    "plt.legend((\"sin(x)\", \"sin(x+pi/2)\"))\n",
    "plt.show()"
   ]
  },
  {
   "cell_type": "markdown",
   "metadata": {},
   "source": [
    "### Line style\n",
    "\n",
    "Each curve of the plot can be decorated individually:"
   ]
  },
  {
   "cell_type": "code",
   "execution_count": null,
   "metadata": {},
   "outputs": [],
   "source": [
    "x1 = np.linspace(0, 2*np.pi, 10)\n",
    "y1 = np.sin(x1)\n",
    "z1 = np.sin(x1+np.pi/2)\n",
    "\n",
    "fig = plt.figure()\n",
    "\n",
    "plt.plot(x1, y1, '+-r', label=\"sin\", linewidth=5.0)\n",
    "plt.plot(x1, z1, 'o--g', label=\"$\\sin(x+\\pi/2)$\", markersize=7.0)\n",
    "plt.legend()\n",
    "plt.show()"
   ]
  },
  {
   "cell_type": "markdown",
   "metadata": {},
   "source": [
    "Plots can even be annotated !"
   ]
  },
  {
   "cell_type": "code",
   "execution_count": null,
   "metadata": {},
   "outputs": [],
   "source": [
    "fig = plt.figure()\n",
    "\n",
    "plt.plot(x, z)\n",
    "atext = 'This is a beautiful curve'\n",
    "arrowtiploc = (1.5, 0.5)\n",
    "textloc=(3, 0.75)\n",
    "plt.annotate(atext, xy=arrowtiploc, xytext=textloc,\n",
    "            arrowprops=dict(width=5,headwidth=15,\n",
    "            facecolor='red'))\n",
    "plt.show()"
   ]
  },
  {
   "cell_type": "markdown",
   "metadata": {},
   "source": [
    "### Histograms\n",
    "\n",
    "Many other forms of plots can be made, such as histograms. For a more complete list see [here](https://matplotlib.org/gallery.html)."
   ]
  },
  {
   "cell_type": "code",
   "execution_count": null,
   "metadata": {},
   "outputs": [],
   "source": [
    "fig = plt.figure()\n",
    "\n",
    "#10,000 Uniform random numbers\n",
    "x2 = np.random.random(10000)\n",
    "#10,000 Normally distributed random numbers\n",
    "y2 = np.random.randn(10000)\n",
    "#Plot both on a histogram with 50 bins\n",
    "plt.hist(y2, 50)\n",
    "plt.hist(x2, 50)\n",
    "plt.show() #Or plt.save g(\"out.png\")"
   ]
  },
  {
   "cell_type": "markdown",
   "metadata": {},
   "source": [
    "### Saving images\n",
    "\n",
    "Sometimes, you might want to save images for a report or a presentation. Instead of taking a screenshot of the plot, you can save it to a file. The file format is determined by the filename extension you supply. The following common  formats are supported: `.png`, `.jpg`, `.pdf` and `.ps`. There are other options to control the size and resolution of the output."
   ]
  },
  {
   "cell_type": "code",
   "execution_count": null,
   "metadata": {},
   "outputs": [],
   "source": [
    "fig = plt.figure()\n",
    "\n",
    "plt.plot(x, y, 'bx')\n",
    "plt.savefig(\"sin.png\", dpi=200)\n",
    "plt.show()"
   ]
  },
  {
   "cell_type": "markdown",
   "metadata": {},
   "source": [
    "### Subplots\n",
    "\n",
    "Sometimes, you will want to group several plots in a single figure. Matplotlib provides an flexible way of managing subplots.\n",
    "```\n",
    "    (fig, axes) = plt.subplots(nrows, ncols)\n",
    "```\n",
    "`subplots()` returns a tuple with a reference to the figure (`fig`) and an array of references to each subplot axes (`axes`)"
   ]
  },
  {
   "cell_type": "code",
   "execution_count": null,
   "metadata": {},
   "outputs": [],
   "source": [
    "fig, axes = plt.subplots(2,1)\n",
    "axes[0].plot(x, y, lw=3., c='r')\n",
    "axes[1].plot(x, z, '--b')\n",
    "axes[1].set_xlabel(\"x\", fontsize=16)\n",
    "axes[0].set_ylabel(\"sin(x)\", fontsize=16)\n",
    "axes[1].set_ylabel(\"sin(x+pi/2)\", fontsize=16)\n",
    "plt.show()"
   ]
  },
  {
   "cell_type": "code",
   "execution_count": null,
   "metadata": {},
   "outputs": [],
   "source": [
    "(fig, axes) = plt.subplots(2, 2, figsize=(10,7))\n",
    "axes[0,0].plot(x, y, 'r')\n",
    "axes[0,1].plot(x, y, 'b')\n",
    "axes[1,0].plot(x, y, 'g')\n",
    "axes[1,1].plot(x, y, 'k')\n",
    "plt.show()"
   ]
  },
  {
   "cell_type": "markdown",
   "metadata": {},
   "source": [
    "Alternatively, you can select a subplot and make it the \"current subplot\""
   ]
  },
  {
   "cell_type": "code",
   "execution_count": null,
   "metadata": {},
   "outputs": [],
   "source": [
    "(fig, axes) = plt.subplots(2, 2)\n",
    "plt.subplots_adjust(wspace = 1., hspace=1.5)\n",
    "\n",
    "plt.sca(axes[0,0])\n",
    "plt.plot(x, y, 'r')\n",
    "plt.sca(axes[0,1])\n",
    "plt.plot(x, y, 'b')\n",
    "plt.sca(axes[1,0])\n",
    "plt.plot(x, y, 'g')\n",
    "plt.sca(axes[1,1])\n",
    "plt.plot(x, y, 'k')\n",
    "plt.show()"
   ]
  },
  {
   "cell_type": "markdown",
   "metadata": {},
   "source": [
    "For more complex subplot layouts `plt.subplot2grid` can be used. It maps the figure to a grid, and you can define subplots spanning across several cells of the grid. It takes 4 arguments:\n",
    "```\n",
    "subplot2grid(shape,\n",
    "             location,\n",
    "             rowspan = 1,\n",
    "             colspan = 1)\n",
    "```\n",
    "`shape` is the shape of the grid (number of cells), it needs to be the same for each call of the function within one figure. `location` is the location of the top-left corner of the subplot. `rowspan` and `colspan` define respectively the length and heigth of the plot."
   ]
  },
  {
   "cell_type": "code",
   "execution_count": null,
   "metadata": {},
   "outputs": [],
   "source": [
    "fig = plt.figure()\n",
    "fig.set_figheight(5)\n",
    "fig.set_figwidth(5)\n",
    "\n",
    "ax1 = plt.subplot2grid((3, 3), (0, 0))\n",
    "ax2 = plt.subplot2grid((3, 3), (0, 1), colspan=1)\n",
    "ax3 = plt.subplot2grid((3, 3), (1, 0), colspan=2, rowspan=2)\n",
    "ax4 = plt.subplot2grid((3, 3), (1, 2), rowspan=2)\n",
    "# what happens if you uncomment the following line? \n",
    "#ax5 = plt.subplot2grid((3, 3), (1, 1), colspan=1, rowspan=1)\n",
    "ax1.plot(x, y, 'r')\n",
    "ax2.plot(x, y, 'b')\n",
    "ax3.plot(x, y, 'g') \n",
    "ax4.plot(x, y, 'k')\n",
    "plt.show()"
   ]
  },
  {
   "cell_type": "markdown",
   "metadata": {},
   "source": [
    "### 2D Plots\n",
    "\n",
    "There are several ways to represent multidimensional data. One can choose to represent the data contained in a 2D domain (a matrix) with colors (in a 2D plot), or with surfaces (in a 3D plot)."
   ]
  },
  {
   "cell_type": "code",
   "execution_count": null,
   "metadata": {},
   "outputs": [],
   "source": [
    "fig = plt.figure()\n",
    "\n",
    "N = 100\n",
    "x = np.linspace(0,2*np.pi,N)\n",
    "y = np.sin(x); z = np.cos(x)\n",
    "#Create 2D field from outer product of previous 1D functions\n",
    "noise = np.random.random(N**2)\n",
    "u = np.outer(y,z) + noise.reshape(N,N)\n",
    "plt.contourf(u, 40, cmap=plt.cm.RdYlBu_r)\n",
    "plt.colorbar()\n",
    "plt.show()"
   ]
  },
  {
   "cell_type": "markdown",
   "metadata": {},
   "source": [
    "### <span style=\"color:blue\">Exercise 2.15</span>\n",
    "\n",
    "Consider the following functions defined on a 2D 'square' domain $\\Omega = [0,1]$:\n",
    "\n",
    "$$ a(x) = \\tanh\\left(50\\sin\\left(\\frac{25}{2}\\pi x\\right)\\right)$$\n",
    "\n",
    "and\n",
    "\n",
    "$$ f(\\mathbf{x}) = a(a(|\\mathbf{x}-\\mathbf{x}_0|)) + a(a(|\\mathbf{x}-\\mathbf{x}_1|)) $$\n",
    "\n",
    "for any $\\mathbf{x} \\in \\Omega$, with $\\mathbf{x}_0=(0,0)$ and $\\mathbf{x}_1=(1,1)$\n",
    "\n",
    "Plot $f$ on $\\Omega$. You may want to use `numpy.meshgrid`.\n",
    "\n",
    "Call the function $f(\\mathbf{x})$ `func_f(x,y)` and have its input be 1D array's for the sample x and y-coordinates. <br>\n",
    "The function $a(x)$ should be called `func_a(x)`. <br>"
   ]
  },
  {
   "cell_type": "code",
   "execution_count": 1,
   "metadata": {},
   "outputs": [
    {
     "data": {
      "text/plain": [
       "<Figure size 640x480 with 0 Axes>"
      ]
     },
     "metadata": {},
     "output_type": "display_data"
    }
   ],
   "source": [
    "import matplotlib.pyplot as plt\n",
    "import numpy as np\n",
    "import\n",
    "\n",
    "fig = plt.figure()\n",
    "## Solution...\n",
    "def func_a(x):\n",
    "    return np.tanh(50 * np.sin(25 * np.pi * x /2))\n",
    "\n",
    "def func_f(x,y):\n",
    "    𝐱_0 = (0, 0)\n",
    "    𝐱_1 = (1, 1)\n",
    "    inv_1 = np.sqrt((x[0]-x_0[0])**2 + (x[1]-x_0[1])**2)\n",
    "    inv_2 = np.sqrt((x[0]-x_1[0])**2 + (x[1]-x_1[1])**2)\n",
    "    y = func_a(func_a(inv_1)) + func_a(func_a(inv_2))\n",
    "    return y"
   ]
  },
  {
   "cell_type": "code",
   "execution_count": 6,
   "metadata": {},
   "outputs": [
    {
     "data": {
      "image/png": "[encoded data removed]",
      "text/plain": [
       "<Figure size 640x480 with 1 Axes>"
      ]
     },
     "metadata": {},
     "output_type": "display_data"
    }
   ],
   "source": [
    "fig = plt.figure()\n",
    "## Solution...\n",
    "\n",
    "def func_a(x):\n",
    "    return np.tanh(50*np.sin(12.5*np.pi*x))\n",
    "\n",
    "x = np.arange(0, 1, 0.001)\n",
    "y = np.arange(0, 1, 0.001)\n",
    "\n",
    "def func_f(x, y, x0=np.array([0, 0]),x1=np.array([1, 1])):\n",
    "    xx, yy = np.meshgrid(x,y, sparse=True)\n",
    "    r1 = np.sqrt((xx-x0[0])**2 + (yy-x0[1])**2)\n",
    "    r2 = np.sqrt((xx-x1[0])**2 + (yy-x1[1])**2)\n",
    "    return func_a(func_a(r1))+func_a(func_a(r2))\n",
    "\n",
    "z = func_f(x,y)\n",
    "h = plt.contourf(x, y, z)\n",
    "plt.axis('scaled')\n",
    "plt.show()"
   ]
  },
  {
   "cell_type": "code",
   "execution_count": 7,
   "metadata": {
    "scrolled": true
   },
   "outputs": [
    {
     "name": "stdout",
     "output_type": "stream",
     "text": [
      "REFERENCE: exercise-2_15\n",
      "SATISFIED: False\n",
      "MESSAGES:\n",
      "  - SUCCESS: Great, your function a(x) seems to be working fine.\n",
      "  - SUCCESS: Great, your function f(x) seems to be working fine.\n",
      "  - SUCCESS: Well done! You have used vectorisation instead of using a loop.\n"
     ]
    }
   ],
   "source": [
    "## The following code is used to check you solution and should not be modified\n",
    "## It should help you by providing feedback to the solution you have provided\n",
    "x = np.arange(0, 1, 0.001)\n",
    "y = np.arange(0, 1, 0.001)\n",
    "with pybryt.check(pybryt_reference(2, 15)):\n",
    "    test_pts = np.linspace(0, 2,10000)\n",
    "    func_a(test_pts)\n",
    "    func_f(x,y)"
   ]
  },
  {
   "cell_type": "code",
   "execution_count": 12,
   "metadata": {},
   "outputs": [
    {
     "name": "stdout",
     "output_type": "stream",
     "text": [
      "[0 1 2]\n",
      "[0 1 2 3]\n"
     ]
    },
    {
     "data": {
      "text/plain": [
       "[array([[0, 1, 2]]),\n",
       " array([[0],\n",
       "        [1],\n",
       "        [2],\n",
       "        [3]])]"
      ]
     },
     "execution_count": 12,
     "metadata": {},
     "output_type": "execute_result"
    }
   ],
   "source": [
    "a = np.arange(3)\n",
    "print(a)\n",
    "b = np.arange(4)\n",
    "print(b)\n",
    "mesh_x, meshe = np.meshgrid(a, b, sparse=True)\n",
    "mesh"
   ]
  },
  {
   "cell_type": "markdown",
   "metadata": {},
   "source": [
    "### 3D Plots\n",
    "\n",
    "A wide variety of options are available for 3D plots, they are usually contained in specific submodules."
   ]
  },
  {
   "cell_type": "code",
   "execution_count": null,
   "metadata": {},
   "outputs": [],
   "source": [
    "from mpl_toolkits.mplot3d import Axes3D\n",
    "from mpl_toolkits.mplot3d.axes3d import get_test_data\n",
    "\n",
    "fig = plt.figure()\n",
    "fig.set_figheight(5)\n",
    "fig.set_figwidth(15)\n",
    "\n",
    "ax = fig.add_subplot(1,3,1, projection='3d')\n",
    "\n",
    "# plot a curve\n",
    "x = np.linspace(0.,2*np.pi,100)\n",
    "ax.plot(x, np.cos(x), np.sin(x))\n",
    "\n",
    "ax = fig.add_subplot(1, 3, 2, projection='3d')\n",
    "\n",
    "# plot a 3D surface\n",
    "X = np.arange(-5, 5, 0.25)\n",
    "Y = np.arange(-5, 5, 0.25)\n",
    "X, Y = np.meshgrid(X, Y)\n",
    "R = np.sqrt(X**2 + Y**2)\n",
    "Z = np.sin(R)\n",
    "surf = ax.plot_surface(X, Y, Z, rstride=1, cstride=1, cmap=plt.cm.coolwarm,\n",
    "                       linewidth=0, antialiased=False)\n",
    "ax.set_zlim(-1.01, 1.01)\n",
    "fig.colorbar(surf, shrink=0.5, aspect=10)\n",
    "\n",
    "ax = fig.add_subplot(1, 3, 3, projection='3d')\n",
    "\n",
    "# plot a 3D wireframe like in the example mplot3d/wire3d_demo\n",
    "X, Y, Z = get_test_data(0.05)\n",
    "ax.plot_wireframe(X, Y, Z, rstride=10, cstride=10)\n",
    "\n",
    "plt.show()"
   ]
  },
  {
   "cell_type": "markdown",
   "metadata": {},
   "source": [
    "### Animations\n",
    "\n",
    "Animations (*i.e.* series of images) can be created with matplotlib. However, exercise some restraint as they can require significant resources."
   ]
  },
  {
   "cell_type": "code",
   "execution_count": null,
   "metadata": {},
   "outputs": [],
   "source": [
    "import numpy as np\n",
    "import matplotlib.pyplot as plt\n",
    "import matplotlib.animation\n",
    "\n",
    "fig = plt.figure()\n",
    "\n",
    "def get_field(a, N = 100):\n",
    "    x = a*np.linspace(0,2*np.pi,N)\n",
    "    y = np.sin(x); z = np.cos(x)\n",
    "    out =  np.outer(y,z)\n",
    "    plt.contourf(out, 40, cmap=plt.cm.RdYlBu_r)\n",
    "\n",
    "        \n",
    "ani= matplotlib.animation.FuncAnimation(plt.gcf(), get_field, frames=range(0,10),\n",
    "                                       interval=500, repeat=False)\n",
    "plt.show()"
   ]
  },
  {
   "cell_type": "code",
   "execution_count": null,
   "metadata": {},
   "outputs": [],
   "source": [
    "import random\n",
    "\n",
    "ysample = random.sample(range(-50, 50), 100)\n",
    "\n",
    "xdata = []\n",
    "ydata = []\n",
    "\n",
    "fig = plt.figure()\n",
    "\n",
    "axes = plt.gca()\n",
    "axes.set_xlim(0, 100)\n",
    "axes.set_ylim(-50, +50)\n",
    "line, = axes.plot(xdata, ydata, 'r-')\n",
    "\n",
    "def update(i):\n",
    "    xdata.append(i)\n",
    "    ydata.append(ysample[i])\n",
    "    line.set_xdata(xdata)\n",
    "    line.set_ydata(ydata)\n",
    "\n",
    "ani= matplotlib.animation.FuncAnimation(plt.gcf(), update, frames=100,\n",
    "                                       interval=100, repeat=False)\n",
    "\n",
    "plt.show()"
   ]
  },
  {
   "cell_type": "markdown",
   "metadata": {},
   "source": [
    "Movies can be generated by saving images then calling an external program like `ffmpeg`, or using the `writers` function from the `animation` submodule, which also uses `ffmpef` under the hood."
   ]
  },
  {
   "cell_type": "markdown",
   "metadata": {},
   "source": [
    "### Widgets\n",
    "\n",
    "Matplotlib provides widgets, that allow you to create dynamic plots with sliders and things like that."
   ]
  },
  {
   "cell_type": "code",
   "execution_count": null,
   "metadata": {},
   "outputs": [],
   "source": [
    "import matplotlib.widgets as mw\n",
    "\n",
    "fig = plt.figure()\n",
    "\n",
    "#Setup initial plot of sine function\n",
    "x = np.linspace(0, 2*np.pi, 200)\n",
    "l, = plt.plot(x, np.sin(x))\n",
    "#Adjust figure to make room for slider\n",
    "plt.subplots_adjust(bottom=0.15)\n",
    "axslide = plt.axes([0.15, 0.05, 0.75, 0.03]) \n",
    "s = mw.Slider(axslide, 'A value', 0., 5.)\n",
    "\n",
    "#Define function\n",
    "def update(A):\n",
    "    l.set_ydata(np.sin(A*x))\n",
    "    plt.draw()\n",
    "#Bind update function to change in slider\n",
    "s.on_changed(update)\n",
    "plt.show()"
   ]
  },
  {
   "cell_type": "markdown",
   "metadata": {},
   "source": [
    "## Summary\n",
    "\n",
    "  * `NumPy`: defines `nd.array`'s which are an efficient data structure for large vectors, matrices and tensors, and provides many functions to manipulate them.\n",
    "  * `SciPy`: defines a lot of user-friendly routines useful for scientific codes.\n",
    "  * Both utilize efficient low level code under the hood, and hence will generally be much faster than re-implement function yourself in pure Python.\n",
    "  * Vectorization !\n",
    "  * `Matplotlib`: allows you to draw and save plots, from the simplest 2D line plot to complicated 3D plots.\n",
    "  * Refer to the online documentation for a complete list of features: https://docs.scipy.org/doc/"
   ]
  }
 ],
 "metadata": {
  "anaconda-cloud": {},
  "celltoolbar": "Raw Cell Format",
  "kernelspec": {
   "display_name": "Python 3 (ipykernel)",
   "language": "python",
   "name": "python3"
  },
  "language_info": {
   "codemirror_mode": {
    "name": "ipython",
    "version": 3
   },
   "file_extension": ".py",
   "mimetype": "text/x-python",
   "name": "python",
   "nbconvert_exporter": "python",
   "pygments_lexer": "ipython3",
   "version": "3.11.5"
  },
  "toc": {
   "base_numbering": 1,
   "nav_menu": {},
   "number_sections": true,
   "sideBar": true,
   "skip_h1_title": false,
   "title_cell": "Table of Contents",
   "title_sidebar": "Contents",
   "toc_cell": false,
   "toc_position": {
    "height": "calc(100% - 180px)",
    "left": "10px",
    "top": "150px",
    "width": "218.59375px"
   },
   "toc_section_display": true,
   "toc_window_display": true
  }
 },
 "nbformat": 4,
 "nbformat_minor": 1
}
